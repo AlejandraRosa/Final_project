{
 "cells": [
  {
   "cell_type": "code",
   "execution_count": 51,
   "metadata": {},
   "outputs": [],
   "source": [
    "# Dependencies\n",
    "import pandas as pd\n",
    "%matplotlib inline\n",
    "import matplotlib.pyplot as plt\n",
    "import seaborn as sns"
   ]
  },
  {
   "cell_type": "code",
   "execution_count": 2,
   "metadata": {},
   "outputs": [
    {
     "data": {
      "text/html": [
       "<div>\n",
       "<style scoped>\n",
       "    .dataframe tbody tr th:only-of-type {\n",
       "        vertical-align: middle;\n",
       "    }\n",
       "\n",
       "    .dataframe tbody tr th {\n",
       "        vertical-align: top;\n",
       "    }\n",
       "\n",
       "    .dataframe thead th {\n",
       "        text-align: right;\n",
       "    }\n",
       "</style>\n",
       "<table border=\"1\" class=\"dataframe\">\n",
       "  <thead>\n",
       "    <tr style=\"text-align: right;\">\n",
       "      <th></th>\n",
       "      <th>Year</th>\n",
       "      <th>Category</th>\n",
       "      <th>Film Title</th>\n",
       "      <th>Winner</th>\n",
       "      <th>Presenter</th>\n",
       "      <th>Date &amp; Venue</th>\n",
       "      <th>Speech</th>\n",
       "    </tr>\n",
       "  </thead>\n",
       "  <tbody>\n",
       "    <tr>\n",
       "      <td>0</td>\n",
       "      <td>1939 (12th) Academy Awards</td>\n",
       "      <td>Actress</td>\n",
       "      <td>Gone with the Wind</td>\n",
       "      <td>Vivien Leigh</td>\n",
       "      <td>Spencer Tracy</td>\n",
       "      <td>February 29, 1940; Ambassador Hotel, Cocoanut ...</td>\n",
       "      <td>VIVIEN LEIGH:\\r\\nLadies and gentlemen, please...</td>\n",
       "    </tr>\n",
       "    <tr>\n",
       "      <td>1</td>\n",
       "      <td>1939 (12th) Academy Awards</td>\n",
       "      <td>Actress in a Supporting Role</td>\n",
       "      <td>Gone with the Wind</td>\n",
       "      <td>Hattie McDaniel</td>\n",
       "      <td>Fay Bainter</td>\n",
       "      <td>February 29, 1940; Ambassador Hotel, Cocoanut ...</td>\n",
       "      <td>HATTIE McDANIEL:\\r\\nAcademy of Motion Picture...</td>\n",
       "    </tr>\n",
       "    <tr>\n",
       "      <td>2</td>\n",
       "      <td>1941 (14th) Academy Awards</td>\n",
       "      <td>Actor in a Supporting Role</td>\n",
       "      <td>How Green Was My Valley</td>\n",
       "      <td>Donald Crisp</td>\n",
       "      <td>James Stewart</td>\n",
       "      <td>February 26, 1942; Biltmore Hotel, Biltmore Bo...</td>\n",
       "      <td>DONALD CRISP:\\r\\nLadies and gentlemen, it's a...</td>\n",
       "    </tr>\n",
       "    <tr>\n",
       "      <td>3</td>\n",
       "      <td>1941 (14th) Academy Awards</td>\n",
       "      <td>Actress</td>\n",
       "      <td>Suspicion</td>\n",
       "      <td>Joan Fontaine</td>\n",
       "      <td>Ginger Rogers</td>\n",
       "      <td>February 26, 1942; Biltmore Hotel, Biltmore Bo...</td>\n",
       "      <td>JOAN FONTAINE:\\r\\nI want to thank the ladies ...</td>\n",
       "    </tr>\n",
       "    <tr>\n",
       "      <td>4</td>\n",
       "      <td>1941 (14th) Academy Awards</td>\n",
       "      <td>Actress in a Supporting Role</td>\n",
       "      <td>The Great Lie</td>\n",
       "      <td>Mary Astor</td>\n",
       "      <td>Ginger Rogers</td>\n",
       "      <td>February 26, 1942; Biltmore Hotel, Biltmore Bo...</td>\n",
       "      <td>MARY ASTOR:\\r\\nLadies and gentlemen, twenty-t...</td>\n",
       "    </tr>\n",
       "  </tbody>\n",
       "</table>\n",
       "</div>"
      ],
      "text/plain": [
       "                         Year                      Category  \\\n",
       "0  1939 (12th) Academy Awards                       Actress   \n",
       "1  1939 (12th) Academy Awards  Actress in a Supporting Role   \n",
       "2  1941 (14th) Academy Awards    Actor in a Supporting Role   \n",
       "3  1941 (14th) Academy Awards                       Actress   \n",
       "4  1941 (14th) Academy Awards  Actress in a Supporting Role   \n",
       "\n",
       "                Film Title           Winner      Presenter  \\\n",
       "0       Gone with the Wind     Vivien Leigh  Spencer Tracy   \n",
       "1       Gone with the Wind  Hattie McDaniel    Fay Bainter   \n",
       "2  How Green Was My Valley     Donald Crisp  James Stewart   \n",
       "3                Suspicion    Joan Fontaine  Ginger Rogers   \n",
       "4            The Great Lie       Mary Astor  Ginger Rogers   \n",
       "\n",
       "                                        Date & Venue  \\\n",
       "0  February 29, 1940; Ambassador Hotel, Cocoanut ...   \n",
       "1  February 29, 1940; Ambassador Hotel, Cocoanut ...   \n",
       "2  February 26, 1942; Biltmore Hotel, Biltmore Bo...   \n",
       "3  February 26, 1942; Biltmore Hotel, Biltmore Bo...   \n",
       "4  February 26, 1942; Biltmore Hotel, Biltmore Bo...   \n",
       "\n",
       "                                              Speech  \n",
       "0   VIVIEN LEIGH:\\r\\nLadies and gentlemen, please...  \n",
       "1   HATTIE McDANIEL:\\r\\nAcademy of Motion Picture...  \n",
       "2   DONALD CRISP:\\r\\nLadies and gentlemen, it's a...  \n",
       "3   JOAN FONTAINE:\\r\\nI want to thank the ladies ...  \n",
       "4   MARY ASTOR:\\r\\nLadies and gentlemen, twenty-t...  "
      ]
     },
     "execution_count": 2,
     "metadata": {},
     "output_type": "execute_result"
    }
   ],
   "source": [
    "#import oscar speech csv\n",
    "oscar_speech = pd.read_csv('../data/oscar_speech_db.csv')\n",
    "oscar_speech.head()"
   ]
  },
  {
   "cell_type": "code",
   "execution_count": 3,
   "metadata": {},
   "outputs": [],
   "source": [
    "#The transcripts use several different iterations of capitalization for \"Music Begins\", will run searches & combine"
   ]
  },
  {
   "cell_type": "code",
   "execution_count": 4,
   "metadata": {},
   "outputs": [],
   "source": [
    "# new dfs for each sub search\n",
    "df1 = oscar_speech\n",
    "df2 = oscar_speech\n",
    "df3 = oscar_speech\n",
    "df4 = oscar_speech"
   ]
  },
  {
   "cell_type": "code",
   "execution_count": 5,
   "metadata": {},
   "outputs": [
    {
     "data": {
      "text/plain": [
       "Year            9\n",
       "Category        9\n",
       "Film Title      9\n",
       "Winner          9\n",
       "Presenter       9\n",
       "Date & Venue    9\n",
       "Speech          9\n",
       "Indexes         9\n",
       "dtype: int64"
      ]
     },
     "execution_count": 5,
     "metadata": {},
     "output_type": "execute_result"
    }
   ],
   "source": [
    "#sub string search with first capitalization iteration\n",
    "sub = \"music begins\"\n",
    "df1[\"Indexes\"] = df1[\"Speech\"].str.find(sub)\n",
    "music_cues1 = df1.loc[df1['Indexes'] != -1]\n",
    "music_cues1.count()"
   ]
  },
  {
   "cell_type": "code",
   "execution_count": 6,
   "metadata": {},
   "outputs": [
    {
     "data": {
      "text/plain": [
       "Year            0\n",
       "Category        0\n",
       "Film Title      0\n",
       "Winner          0\n",
       "Presenter       0\n",
       "Date & Venue    0\n",
       "Speech          0\n",
       "Indexes         0\n",
       "dtype: int64"
      ]
     },
     "execution_count": 6,
     "metadata": {},
     "output_type": "execute_result"
    }
   ],
   "source": [
    "#sub string search with second capitalization iteration - no results\n",
    "sub = \"music Begins\"\n",
    "df2[\"Indexes\"] = df2[\"Speech\"].str.find(sub)\n",
    "music_cues2 = df2.loc[df2['Indexes'] != -1]\n",
    "music_cues2.count()"
   ]
  },
  {
   "cell_type": "code",
   "execution_count": 7,
   "metadata": {},
   "outputs": [
    {
     "data": {
      "text/plain": [
       "Year            0\n",
       "Category        0\n",
       "Film Title      0\n",
       "Winner          0\n",
       "Presenter       0\n",
       "Date & Venue    0\n",
       "Speech          0\n",
       "Indexes         0\n",
       "dtype: int64"
      ]
     },
     "execution_count": 7,
     "metadata": {},
     "output_type": "execute_result"
    }
   ],
   "source": [
    "#sub string search with third capitalization iteration - no results\n",
    "sub = \"Music Begins\"\n",
    "df3[\"Indexes\"] = df3[\"Speech\"].str.find(sub)\n",
    "music_cues3 = df3.loc[df3['Indexes'] != -1]\n",
    "music_cues3.count()"
   ]
  },
  {
   "cell_type": "code",
   "execution_count": 8,
   "metadata": {},
   "outputs": [
    {
     "data": {
      "text/plain": [
       "Year            20\n",
       "Category        20\n",
       "Film Title      20\n",
       "Winner          20\n",
       "Presenter       20\n",
       "Date & Venue    20\n",
       "Speech          20\n",
       "Indexes         20\n",
       "dtype: int64"
      ]
     },
     "execution_count": 8,
     "metadata": {},
     "output_type": "execute_result"
    }
   ],
   "source": [
    "#sub string search with fourth capitalization iteration\n",
    "sub = \"Music begins\"\n",
    "df4[\"Indexes\"] = df4[\"Speech\"].str.find(sub)\n",
    "music_cues4 = df4.loc[df4['Indexes'] != -1]\n",
    "music_cues4.count()"
   ]
  },
  {
   "cell_type": "code",
   "execution_count": 9,
   "metadata": {},
   "outputs": [],
   "source": [
    "#Eliminate duplicate \"Ida\" speech, transcript uses both \"music begins\" & \"Music begins\" - they got warned twice :)\n",
    "music_cues4 = music_cues4.loc[music_cues4[\"Film Title\"] != \"Ida\"]"
   ]
  },
  {
   "cell_type": "code",
   "execution_count": 10,
   "metadata": {},
   "outputs": [
    {
     "data": {
      "text/plain": [
       "Year            28\n",
       "Category        28\n",
       "Film Title      28\n",
       "Winner          28\n",
       "Presenter       28\n",
       "Date & Venue    28\n",
       "Speech          28\n",
       "Indexes         28\n",
       "dtype: int64"
      ]
     },
     "execution_count": 10,
     "metadata": {},
     "output_type": "execute_result"
    }
   ],
   "source": [
    "#combine\n",
    "frames = [music_cues1, music_cues4]\n",
    "combined_music_cues = pd.concat(frames)\n",
    "combined_music_cues.count()"
   ]
  },
  {
   "cell_type": "code",
   "execution_count": 11,
   "metadata": {},
   "outputs": [
    {
     "data": {
      "text/plain": [
       "Year            14\n",
       "Category        14\n",
       "Film Title      14\n",
       "Winner          14\n",
       "Presenter       14\n",
       "Date & Venue    14\n",
       "Speech          14\n",
       "Indexes         14\n",
       "dtype: int64"
      ]
     },
     "execution_count": 11,
     "metadata": {},
     "output_type": "execute_result"
    }
   ],
   "source": [
    "#create no-speech df using sub search method\n",
    "sub = \"[No speech.]\"\n",
    "oscar_speech[\"Indexes\"] = oscar_speech[\"Speech\"].str.find(sub)\n",
    "no_speech = oscar_speech.loc[oscar_speech['Indexes'] != -1]\n",
    "no_speech.count()"
   ]
  },
  {
   "cell_type": "code",
   "execution_count": 25,
   "metadata": {},
   "outputs": [
    {
     "name": "stderr",
     "output_type": "stream",
     "text": [
      "/Users/Nathaniel/opt/anaconda3/lib/python3.7/site-packages/ipykernel_launcher.py:7: FutureWarning: Sorting because non-concatenation axis is not aligned. A future version\n",
      "of pandas will change to not sort by default.\n",
      "\n",
      "To accept the future behavior, pass 'sort=False'.\n",
      "\n",
      "To retain the current behavior and silence the warning, pass 'sort=True'.\n",
      "\n",
      "  import sys\n"
     ]
    },
    {
     "data": {
      "text/plain": [
       "Category        15\n",
       "Date & Venue    15\n",
       "Film Title      15\n",
       "Indexes         15\n",
       "Presenter       15\n",
       "Speech          15\n",
       "Winner          15\n",
       "Word Count       1\n",
       "Year            15\n",
       "dtype: int64"
      ]
     },
     "execution_count": 25,
     "metadata": {},
     "output_type": "execute_result"
    }
   ],
   "source": [
    "# One award in transcript uses \"No Speeches\" - create solo df\n",
    "sub = \"[No speeches.]\"\n",
    "oscar_speech[\"Indexes\"] = oscar_speech[\"Speech\"].str.find(sub)\n",
    "no_speeches = oscar_speech.loc[oscar_speech['Indexes'] != -1]\n",
    "\n",
    "# Combine with no_speech for total\n",
    "frames2 = [no_speech, no_speeches]\n",
    "combined_no_speech = pd.concat(frames2)\n",
    "combined_no_speech.count()"
   ]
  },
  {
   "cell_type": "code",
   "execution_count": 12,
   "metadata": {},
   "outputs": [
    {
     "data": {
      "text/html": [
       "<div>\n",
       "<style scoped>\n",
       "    .dataframe tbody tr th:only-of-type {\n",
       "        vertical-align: middle;\n",
       "    }\n",
       "\n",
       "    .dataframe tbody tr th {\n",
       "        vertical-align: top;\n",
       "    }\n",
       "\n",
       "    .dataframe thead th {\n",
       "        text-align: right;\n",
       "    }\n",
       "</style>\n",
       "<table border=\"1\" class=\"dataframe\">\n",
       "  <thead>\n",
       "    <tr style=\"text-align: right;\">\n",
       "      <th></th>\n",
       "      <th>Year</th>\n",
       "      <th>Category</th>\n",
       "      <th>Film Title</th>\n",
       "      <th>Winner</th>\n",
       "      <th>Presenter</th>\n",
       "      <th>Date &amp; Venue</th>\n",
       "      <th>Speech</th>\n",
       "      <th>Word Count</th>\n",
       "    </tr>\n",
       "  </thead>\n",
       "  <tbody>\n",
       "    <tr>\n",
       "      <td>0</td>\n",
       "      <td>1939 (12th) Academy Awards</td>\n",
       "      <td>Actress</td>\n",
       "      <td>Gone with the Wind</td>\n",
       "      <td>Vivien Leigh</td>\n",
       "      <td>Spencer Tracy</td>\n",
       "      <td>February 29, 1940; Ambassador Hotel, Cocoanut ...</td>\n",
       "      <td>VIVIEN LEIGH:\\r\\nLadies and gentlemen, please...</td>\n",
       "      <td>96</td>\n",
       "    </tr>\n",
       "    <tr>\n",
       "      <td>1</td>\n",
       "      <td>1939 (12th) Academy Awards</td>\n",
       "      <td>Actress in a Supporting Role</td>\n",
       "      <td>Gone with the Wind</td>\n",
       "      <td>Hattie McDaniel</td>\n",
       "      <td>Fay Bainter</td>\n",
       "      <td>February 29, 1940; Ambassador Hotel, Cocoanut ...</td>\n",
       "      <td>HATTIE McDANIEL:\\r\\nAcademy of Motion Picture...</td>\n",
       "      <td>121</td>\n",
       "    </tr>\n",
       "    <tr>\n",
       "      <td>2</td>\n",
       "      <td>1941 (14th) Academy Awards</td>\n",
       "      <td>Actor in a Supporting Role</td>\n",
       "      <td>How Green Was My Valley</td>\n",
       "      <td>Donald Crisp</td>\n",
       "      <td>James Stewart</td>\n",
       "      <td>February 26, 1942; Biltmore Hotel, Biltmore Bo...</td>\n",
       "      <td>DONALD CRISP:\\r\\nLadies and gentlemen, it's a...</td>\n",
       "      <td>149</td>\n",
       "    </tr>\n",
       "    <tr>\n",
       "      <td>3</td>\n",
       "      <td>1941 (14th) Academy Awards</td>\n",
       "      <td>Actress</td>\n",
       "      <td>Suspicion</td>\n",
       "      <td>Joan Fontaine</td>\n",
       "      <td>Ginger Rogers</td>\n",
       "      <td>February 26, 1942; Biltmore Hotel, Biltmore Bo...</td>\n",
       "      <td>JOAN FONTAINE:\\r\\nI want to thank the ladies ...</td>\n",
       "      <td>44</td>\n",
       "    </tr>\n",
       "    <tr>\n",
       "      <td>4</td>\n",
       "      <td>1941 (14th) Academy Awards</td>\n",
       "      <td>Actress in a Supporting Role</td>\n",
       "      <td>The Great Lie</td>\n",
       "      <td>Mary Astor</td>\n",
       "      <td>Ginger Rogers</td>\n",
       "      <td>February 26, 1942; Biltmore Hotel, Biltmore Bo...</td>\n",
       "      <td>MARY ASTOR:\\r\\nLadies and gentlemen, twenty-t...</td>\n",
       "      <td>46</td>\n",
       "    </tr>\n",
       "    <tr>\n",
       "      <td>...</td>\n",
       "      <td>...</td>\n",
       "      <td>...</td>\n",
       "      <td>...</td>\n",
       "      <td>...</td>\n",
       "      <td>...</td>\n",
       "      <td>...</td>\n",
       "      <td>...</td>\n",
       "      <td>...</td>\n",
       "    </tr>\n",
       "    <tr>\n",
       "      <td>1664</td>\n",
       "      <td>2016 (89th) Academy Awards</td>\n",
       "      <td>Writing (Original Screenplay)</td>\n",
       "      <td>Manchester by the Sea</td>\n",
       "      <td>Written by Kenneth Lonergan</td>\n",
       "      <td>Ben Affleck, Matt Damon</td>\n",
       "      <td>February 26, 2017; Dolby Theatre</td>\n",
       "      <td>KENNETH LONERGAN:\\r\\nThank you so much. I lov...</td>\n",
       "      <td>192</td>\n",
       "    </tr>\n",
       "    <tr>\n",
       "      <td>1665</td>\n",
       "      <td>2016 (89th) Academy Awards</td>\n",
       "      <td>Honorary Award</td>\n",
       "      <td>None</td>\n",
       "      <td>To Jackie Chan, an international film star who...</td>\n",
       "      <td>Tom Hanks, Michelle Yeoh, Chris Tucker</td>\n",
       "      <td>November 12, 2016; The Governors Awards (Ray D...</td>\n",
       "      <td>JACKIE CHAN:\\r\\nAcademy Award! I still can't ...</td>\n",
       "      <td>355</td>\n",
       "    </tr>\n",
       "    <tr>\n",
       "      <td>1666</td>\n",
       "      <td>2016 (89th) Academy Awards</td>\n",
       "      <td>Honorary Award</td>\n",
       "      <td>None</td>\n",
       "      <td>To Anne V. Coates, in recognition of a film ed...</td>\n",
       "      <td>Michael Tronick, Nicole Kidman, Richard Gere</td>\n",
       "      <td>November 12, 2016; The Governors Awards (Ray D...</td>\n",
       "      <td>ANNE V. COATES:\\r\\nThank you, thank you, than...</td>\n",
       "      <td>480</td>\n",
       "    </tr>\n",
       "    <tr>\n",
       "      <td>1667</td>\n",
       "      <td>None</td>\n",
       "      <td>None</td>\n",
       "      <td>None</td>\n",
       "      <td>None</td>\n",
       "      <td>None</td>\n",
       "      <td>None</td>\n",
       "      <td>None</td>\n",
       "      <td>1</td>\n",
       "    </tr>\n",
       "    <tr>\n",
       "      <td>1668</td>\n",
       "      <td>2016 (89th) Academy Awards</td>\n",
       "      <td>Honorary Award</td>\n",
       "      <td>None</td>\n",
       "      <td>To Frederick Wiseman, whose masterful and dist...</td>\n",
       "      <td>Rory Kennedy, Ben Kingsley, Don Cheadle</td>\n",
       "      <td>November 12, 2016; The Governors Awards (Ray D...</td>\n",
       "      <td>FREDERICK WISEMAN:\\r\\nThank you. Thank you. I...</td>\n",
       "      <td>715</td>\n",
       "    </tr>\n",
       "  </tbody>\n",
       "</table>\n",
       "<p>1669 rows × 8 columns</p>\n",
       "</div>"
      ],
      "text/plain": [
       "                            Year                       Category  \\\n",
       "0     1939 (12th) Academy Awards                        Actress   \n",
       "1     1939 (12th) Academy Awards   Actress in a Supporting Role   \n",
       "2     1941 (14th) Academy Awards     Actor in a Supporting Role   \n",
       "3     1941 (14th) Academy Awards                        Actress   \n",
       "4     1941 (14th) Academy Awards   Actress in a Supporting Role   \n",
       "...                          ...                            ...   \n",
       "1664  2016 (89th) Academy Awards  Writing (Original Screenplay)   \n",
       "1665  2016 (89th) Academy Awards                 Honorary Award   \n",
       "1666  2016 (89th) Academy Awards                 Honorary Award   \n",
       "1667                        None                           None   \n",
       "1668  2016 (89th) Academy Awards                 Honorary Award   \n",
       "\n",
       "                   Film Title  \\\n",
       "0          Gone with the Wind   \n",
       "1          Gone with the Wind   \n",
       "2     How Green Was My Valley   \n",
       "3                   Suspicion   \n",
       "4               The Great Lie   \n",
       "...                       ...   \n",
       "1664    Manchester by the Sea   \n",
       "1665                     None   \n",
       "1666                     None   \n",
       "1667                     None   \n",
       "1668                     None   \n",
       "\n",
       "                                                 Winner  \\\n",
       "0                                          Vivien Leigh   \n",
       "1                                       Hattie McDaniel   \n",
       "2                                          Donald Crisp   \n",
       "3                                         Joan Fontaine   \n",
       "4                                            Mary Astor   \n",
       "...                                                 ...   \n",
       "1664                        Written by Kenneth Lonergan   \n",
       "1665  To Jackie Chan, an international film star who...   \n",
       "1666  To Anne V. Coates, in recognition of a film ed...   \n",
       "1667                                               None   \n",
       "1668  To Frederick Wiseman, whose masterful and dist...   \n",
       "\n",
       "                                         Presenter  \\\n",
       "0                                    Spencer Tracy   \n",
       "1                                      Fay Bainter   \n",
       "2                                    James Stewart   \n",
       "3                                    Ginger Rogers   \n",
       "4                                    Ginger Rogers   \n",
       "...                                            ...   \n",
       "1664                       Ben Affleck, Matt Damon   \n",
       "1665        Tom Hanks, Michelle Yeoh, Chris Tucker   \n",
       "1666  Michael Tronick, Nicole Kidman, Richard Gere   \n",
       "1667                                          None   \n",
       "1668       Rory Kennedy, Ben Kingsley, Don Cheadle   \n",
       "\n",
       "                                           Date & Venue  \\\n",
       "0     February 29, 1940; Ambassador Hotel, Cocoanut ...   \n",
       "1     February 29, 1940; Ambassador Hotel, Cocoanut ...   \n",
       "2     February 26, 1942; Biltmore Hotel, Biltmore Bo...   \n",
       "3     February 26, 1942; Biltmore Hotel, Biltmore Bo...   \n",
       "4     February 26, 1942; Biltmore Hotel, Biltmore Bo...   \n",
       "...                                                 ...   \n",
       "1664                   February 26, 2017; Dolby Theatre   \n",
       "1665  November 12, 2016; The Governors Awards (Ray D...   \n",
       "1666  November 12, 2016; The Governors Awards (Ray D...   \n",
       "1667                                               None   \n",
       "1668  November 12, 2016; The Governors Awards (Ray D...   \n",
       "\n",
       "                                                 Speech  Word Count  \n",
       "0      VIVIEN LEIGH:\\r\\nLadies and gentlemen, please...          96  \n",
       "1      HATTIE McDANIEL:\\r\\nAcademy of Motion Picture...         121  \n",
       "2      DONALD CRISP:\\r\\nLadies and gentlemen, it's a...         149  \n",
       "3      JOAN FONTAINE:\\r\\nI want to thank the ladies ...          44  \n",
       "4      MARY ASTOR:\\r\\nLadies and gentlemen, twenty-t...          46  \n",
       "...                                                 ...         ...  \n",
       "1664   KENNETH LONERGAN:\\r\\nThank you so much. I lov...         192  \n",
       "1665   JACKIE CHAN:\\r\\nAcademy Award! I still can't ...         355  \n",
       "1666   ANNE V. COATES:\\r\\nThank you, thank you, than...         480  \n",
       "1667                                               None           1  \n",
       "1668   FREDERICK WISEMAN:\\r\\nThank you. Thank you. I...         715  \n",
       "\n",
       "[1669 rows x 8 columns]"
      ]
     },
     "execution_count": 12,
     "metadata": {},
     "output_type": "execute_result"
    }
   ],
   "source": [
    "# create word counts column to measure speech length\n",
    "oscar_speech_length = oscar_speech\n",
    "oscar_speech_length[\"Word Count\"] = oscar_speech['Speech'].str.split().str.len()\n",
    "oscar_speech_length = oscar_speech_length.drop(columns=['Indexes'])\n",
    "oscar_speech_length"
   ]
  },
  {
   "cell_type": "code",
   "execution_count": 67,
   "metadata": {},
   "outputs": [
    {
     "data": {
      "text/plain": [
       "Year                        Year                      \n",
       "1939 (12th) Academy Awards  1939 (12th) Academy Awards    108.500000\n",
       "1941 (14th) Academy Awards  1941 (14th) Academy Awards     54.846154\n",
       "1942 (15th) Academy Awards  1942 (15th) Academy Awards    173.666667\n",
       "1943 (16th) Academy Awards  1943 (16th) Academy Awards    147.000000\n",
       "1946 (19th) Academy Awards  1946 (19th) Academy Awards     81.333333\n",
       "                                                             ...    \n",
       "2013 (86th) Academy Awards  2013 (86th) Academy Awards    255.346154\n",
       "2014 (87th) Academy Awards  2014 (87th) Academy Awards    230.703704\n",
       "2015 (88th) Academy Awards  2015 (88th) Academy Awards    341.740741\n",
       "2016 (89th) Academy Awards  2016 (89th) Academy Awards    258.518519\n",
       "None                        None                            1.000000\n",
       "Length: 75, dtype: float64"
      ]
     },
     "execution_count": 67,
     "metadata": {},
     "output_type": "execute_result"
    }
   ],
   "source": [
    "#calculations for average speech length\n",
    "word_count = oscar_speech_length.groupby([\"Year\"])\n",
    "total_words = word_count[\"Word Count\"].sum()\n",
    "total_speeches = word_count[\"Year\"].value_counts()\n",
    "avg_speech_length = total_words / total_speeches\n",
    "avg_speech_length"
   ]
  },
  {
   "cell_type": "code",
   "execution_count": 68,
   "metadata": {},
   "outputs": [],
   "source": [
    "# create x axis\n",
    "x_axis = oscar_speech[\"Year\"]"
   ]
  },
  {
   "cell_type": "code",
   "execution_count": 72,
   "metadata": {},
   "outputs": [
    {
     "data": {
      "image/png": "[encoded data removed]",
      "text/plain": [
       "<Figure size 1800x360 with 1 Axes>"
      ]
     },
     "metadata": {
      "needs_background": "light"
     },
     "output_type": "display_data"
    }
   ],
   "source": [
    "#plotting \n",
    "plt.subplots(figsize=(25,5));\n",
    "sns.barplot(x=x_axis, y=avg_speech_length);\n",
    "plt.xticks(rotation=\"vertical\");\n",
    "plt.xlabel(\"Award Year\");\n",
    "plt.ylabel(\"Avg. Number of Words in Speech\");\n",
    "plt.title(\"Avg. Number of Words in Academy Award Speeches\");"
   ]
  },
  {
   "cell_type": "code",
   "execution_count": null,
   "metadata": {},
   "outputs": [],
   "source": []
  }
 ],
 "metadata": {
  "kernelspec": {
   "display_name": "Python 3",
   "language": "python",
   "name": "python3"
  },
  "language_info": {
   "codemirror_mode": {
    "name": "ipython",
    "version": 3
   },
   "file_extension": ".py",
   "mimetype": "text/x-python",
   "name": "python",
   "nbconvert_exporter": "python",
   "pygments_lexer": "ipython3",
   "version": "3.7.4"
  }
 },
 "nbformat": 4,
 "nbformat_minor": 4
}
