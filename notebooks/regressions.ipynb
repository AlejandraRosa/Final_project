{
 "cells": [
  {
   "cell_type": "markdown",
   "metadata": {},
   "source": [
    "# Movies 🍿"
   ]
  },
  {
   "cell_type": "markdown",
   "metadata": {},
   "source": [
    "## What can we learn by gathering, cleaning, sorting, and filtering available movie data?"
   ]
  },
  {
   "cell_type": "markdown",
   "metadata": {},
   "source": [
    "_We live in a box of space and time. Movies are windows in its walls. They allow us to enter other minds, not simply in the sense of identifying with the characters, although that is an important part of it, but by seeing the world as another person sees it._ - Roger Ebert"
   ]
  },
  {
   "cell_type": "markdown",
   "metadata": {},
   "source": [
    "## Setup and data cleaning"
   ]
  },
  {
   "cell_type": "code",
   "execution_count": 10,
   "metadata": {},
   "outputs": [],
   "source": [
    "# Dependencies\n",
    "%matplotlib inline\n",
    "import matplotlib.pyplot as plt\n",
    "import numpy as np \n",
    "from numpy import NaN\n",
    "import pandas as pd\n",
    "from mpl_toolkits.mplot3d import Axes3D\n",
    "\n",
    "pd.options.mode.chained_assignment = None  # default='warn'"
   ]
  },
  {
   "cell_type": "code",
   "execution_count": 2,
   "metadata": {},
   "outputs": [],
   "source": [
    "# Import movies (IMDB)\n",
    "title_basics = pd.read_csv('../data/title.basics.tsv',delimiter='\\t',encoding='utf-8-sig', low_memory=False)\n",
    "\n",
    "# Import ratings (IMDB)\n",
    "title_ratings = pd.read_csv('../data/title.ratings.tsv',delimiter='\\t',encoding='utf-8-sig')\n",
    "\n",
    "# Import crew (IMDB)\n",
    "title_crew = pd.read_csv('../data/title.crew.tsv',delimiter='\\t',encoding='utf-8-sig')\n",
    "\n",
    "# Import name basics (IMDB)\n",
    "name_basics = pd.read_csv('../data/name.basics.tsv',delimiter='\\t',encoding='utf-8-sig')\n",
    "\n",
    "# Import box office data (BoxOfficeMojo)\n",
    "box_office = pd.read_csv('../data/boxoffice.csv')\n",
    "\n",
    "# Import Oscar data (https://en.wikipedia.org/wiki/List_of_Academy_Award-winning_films)\n",
    "oscars = pd.read_csv('../data/oscars_cleaned.csv')"
   ]
  },
  {
   "cell_type": "code",
   "execution_count": 3,
   "metadata": {},
   "outputs": [],
   "source": [
    "# Filter non-movies, adult movies\n",
    "title_filtered = title_basics[title_basics['titleType']=='movie']\n",
    "title_filtered = title_filtered[title_filtered['isAdult']==0]"
   ]
  },
  {
   "cell_type": "code",
   "execution_count": 4,
   "metadata": {},
   "outputs": [],
   "source": [
    "# Split out genres and join\n",
    "genres_split = title_filtered[\"genres\"].str.split(\",\", n=2, expand=True)\n",
    "joined = title_filtered.join(genres_split)\n",
    "\n",
    "# Rename and drop some columns\n",
    "cleaned = joined.rename(columns = {'tconst':'IMDB ID', 'titleType': 'Type', 'primaryTitle': 'Title', 'originalTitle': 'Title (original)', 'startYear': 'Year', 'runtimeMinutes': 'Runtime (min)', 0:'Genre (main)', 1:'Genre (sub 1)', 2:'Genre (sub 2)'})\n",
    "cleaned = cleaned.drop(columns=['endYear', 'genres', 'Genre (sub 1)', 'Genre (sub 2)', 'Title (original)'])"
   ]
  },
  {
   "cell_type": "code",
   "execution_count": 5,
   "metadata": {},
   "outputs": [],
   "source": [
    "# Merge basic set and rating\n",
    "with_ratings = cleaned.set_index('IMDB ID').join(title_ratings.set_index('tconst'))\n",
    "with_ratings = with_ratings.rename(columns = {'averageRating': 'Rating (avg.)', 'numVotes': 'Votes'})\n",
    "\n",
    "# Merge box office and Oscars\n",
    "merged = pd.merge(box_office, oscars, left_on='title', right_on='Film', how='outer')"
   ]
  },
  {
   "cell_type": "code",
   "execution_count": 11,
   "metadata": {},
   "outputs": [],
   "source": [
    "# Merge both of above to make combined set\n",
    "combined = with_ratings.merge(merged,how='left', left_on='Title', right_on='title')\n",
    "\n",
    "# Drop, rename, change \\N to NaN\n",
    "combined = combined.drop(['Type', 'isAdult', 'Year_y', 'year', 'rank', 'title', 'Film'], axis=1)\n",
    "combined = combined.rename(columns = {'Year_x': 'Year', 'studio': 'Studio', 'lifetime_gross': 'Gross (lifetime)'})\n",
    "combined = combined.replace(r'\\\\N','NaN', regex=True)\n",
    "combined = combined[combined['Runtime (min)']!='NaN']\n",
    "combined = combined[combined['Genre (main)']!='NaN']\n",
    "\n",
    "# Convert NaN to 0 for Awards and Nominiations\n",
    "combined['Awards']=combined['Awards'].fillna(0)\n",
    "combined['Nominations']=combined['Nominations'].fillna(0)"
   ]
  },
  {
   "cell_type": "code",
   "execution_count": 12,
   "metadata": {},
   "outputs": [],
   "source": [
    "## Drop items we don't have data for (i.e. Studio or Gross (lifetime) data)\n",
    "dropped = combined.dropna(axis='rows')\n",
    "#print(dropped.dtypes)"
   ]
  },
  {
   "cell_type": "code",
   "execution_count": 13,
   "metadata": {},
   "outputs": [],
   "source": [
    "dropped['Year'] = dropped['Year'].astype(float)\n",
    "dropped['Runtime (min)'] = dropped['Runtime (min)'].astype(float)\n",
    "dropped['Votes'] = dropped['Votes'].astype(int)\n",
    "dropped['Awards'] = dropped['Awards'].astype(int)\n",
    "dropped['Nominations'] = dropped['Nominations'].astype(int)\n",
    "dropped['Gross (lifetime)'] = dropped['Gross (lifetime)'].astype(float)"
   ]
  },
  {
   "cell_type": "code",
   "execution_count": 14,
   "metadata": {},
   "outputs": [
    {
     "data": {
      "text/plain": [
       "array(['Biography', 'Drama', 'Western', 'Action', 'Mystery', 'Comedy',\n",
       "       'Adventure', 'Horror', 'Fantasy', 'Romance', 'Documentary',\n",
       "       'Crime', 'Musical', 'Sci-Fi', 'Animation', 'Film-Noir', 'Family',\n",
       "       'Thriller', 'Music', 'History', 'War', 'Sport'], dtype=object)"
      ]
     },
     "execution_count": 14,
     "metadata": {},
     "output_type": "execute_result"
    }
   ],
   "source": [
    "# List out genres\n",
    "genre_list = dropped['Genre (main)'].unique()\n",
    "genre_list"
   ]
  },
  {
   "cell_type": "code",
   "execution_count": 15,
   "metadata": {},
   "outputs": [],
   "source": [
    "## Code genres numerically\n",
    "dropped['Genre (main)'] = dropped['Genre (main)'].replace(r'Action',1, regex=True)\n",
    "dropped['Genre (main)'] = dropped['Genre (main)'].replace(r'Adventure',2, regex=True)\n",
    "dropped['Genre (main)'] = dropped['Genre (main)'].replace(r'Biography',3, regex=True)\n",
    "dropped['Genre (main)'] = dropped['Genre (main)'].replace(r'Comedy',4, regex=True)\n",
    "dropped['Genre (main)'] = dropped['Genre (main)'].replace(r'Crime',5, regex=True)\n",
    "dropped['Genre (main)'] = dropped['Genre (main)'].replace(r'Drama',6, regex=True)\n",
    "dropped['Genre (main)'] = dropped['Genre (main)'].replace(r'Family',7, regex=True)\n",
    "dropped['Genre (main)'] = dropped['Genre (main)'].replace(r'Fantasy',8, regex=True)\n",
    "dropped['Genre (main)'] = dropped['Genre (main)'].replace(r'Film-Noir',9, regex=True)\n",
    "dropped['Genre (main)'] = dropped['Genre (main)'].replace(r'History',10, regex=True)\n",
    "dropped['Genre (main)'] = dropped['Genre (main)'].replace(r'Horror',11, regex=True)\n",
    "dropped['Genre (main)'] = dropped['Genre (main)'].replace(r'Musical',12, regex=True)\n",
    "dropped['Genre (main)'] = dropped['Genre (main)'].replace(r'Mystery',13, regex=True)\n",
    "dropped['Genre (main)'] = dropped['Genre (main)'].replace(r'Romance',14, regex=True)\n",
    "dropped['Genre (main)'] = dropped['Genre (main)'].replace(r'Sci-Fi',15, regex=True)\n",
    "dropped['Genre (main)'] = dropped['Genre (main)'].replace(r'Sport',16, regex=True)\n",
    "dropped['Genre (main)'] = dropped['Genre (main)'].replace(r'Thriller',17, regex=True)\n",
    "dropped['Genre (main)'] = dropped['Genre (main)'].replace(r'War',18, regex=True)\n",
    "dropped['Genre (main)'] = dropped['Genre (main)'].replace(r'Western',19, regex=True)"
   ]
  },
  {
   "cell_type": "code",
   "execution_count": 16,
   "metadata": {},
   "outputs": [],
   "source": [
    "# Drop the studios. There are a lot, and we're not using them right now\n",
    "dropped = dropped.drop(['Studio'], axis=1)\n",
    "\n",
    "# Drop Animation, Documentary, Music genres (did not code above, so use text)\n",
    "dropped = dropped[dropped['Genre (main)']!='Animation']\n",
    "dropped = dropped[dropped['Genre (main)']!='Documentary']\n",
    "dropped = dropped[dropped['Genre (main)']!='Music']\n",
    "\n",
    "#print(dropped.dtypes)\n",
    "#dropped.head()\n",
    "#dropped['Genre (main)'].value_counts()"
   ]
  },
  {
   "cell_type": "markdown",
   "metadata": {},
   "source": [
    "# Machine Learning 1: Regression"
   ]
  },
  {
   "cell_type": "code",
   "execution_count": 17,
   "metadata": {},
   "outputs": [],
   "source": [
    "# Reset index to avoid sklearn problems\n",
    "dropped = dropped.reset_index()\n",
    "dropped = dropped.drop(['index'], axis=1)"
   ]
  },
  {
   "cell_type": "markdown",
   "metadata": {},
   "source": [
    "## All movies 🎞️"
   ]
  },
  {
   "cell_type": "markdown",
   "metadata": {},
   "source": [
    "### All movies: Votes by Average rating"
   ]
  },
  {
   "cell_type": "code",
   "execution_count": 18,
   "metadata": {
    "scrolled": true
   },
   "outputs": [
    {
     "data": {
      "text/plain": [
       "Text(0, 0.5, 'Votes')"
      ]
     },
     "execution_count": 18,
     "metadata": {},
     "output_type": "execute_result"
    },
    {
     "data": {
      "image/png": "[encoded data removed]",
      "text/plain": [
       "<Figure size 432x288 with 1 Axes>"
      ]
     },
     "metadata": {
      "needs_background": "light"
     },
     "output_type": "display_data"
    }
   ],
   "source": [
    "# Assign data to X, y (Sklearn requires a two-dimensional array of values so we use reshape to create this)\n",
    "X = dropped['Rating (avg.)'].values.reshape(-1, 1)\n",
    "y = dropped['Votes'].values.reshape(-1, 1)\n",
    "#print(\"Shape: \", X.shape, y.shape)\n",
    "\n",
    "# Plot the data to see if a linear trend exists\n",
    "plt.scatter(X, y)\n",
    "plt.xlabel('Rating (avg.)')\n",
    "plt.ylabel('Votes')"
   ]
  },
  {
   "cell_type": "markdown",
   "metadata": {},
   "source": [
    "### All movies: Average rating by year"
   ]
  },
  {
   "cell_type": "code",
   "execution_count": 19,
   "metadata": {},
   "outputs": [
    {
     "name": "stdout",
     "output_type": "stream",
     "text": [
      "Shape:  (17779, 1) (17779, 1)\n"
     ]
    },
    {
     "data": {
      "text/plain": [
       "Text(0, 0.5, 'Rating (avg.)')"
      ]
     },
     "execution_count": 19,
     "metadata": {},
     "output_type": "execute_result"
    },
    {
     "data": {
      "image/png": "[encoded data removed]",
      "text/plain": [
       "<Figure size 432x288 with 1 Axes>"
      ]
     },
     "metadata": {
      "needs_background": "light"
     },
     "output_type": "display_data"
    }
   ],
   "source": [
    "# Assign data to X, y (Sklearn requires a two-dimensional array of values so we use reshape to create this)\n",
    "X = dropped['Year'].values.reshape(-1, 1)\n",
    "y = dropped['Rating (avg.)'].values.reshape(-1, 1)\n",
    "print(\"Shape: \", X.shape, y.shape)\n",
    "\n",
    "# Plot the data to see if a linear trend exists\n",
    "plt.scatter(X, y)\n",
    "plt.xlabel('Year')\n",
    "plt.ylabel('Rating (avg.)')"
   ]
  },
  {
   "cell_type": "markdown",
   "metadata": {},
   "source": [
    "### All movies: Lifetime gross by year"
   ]
  },
  {
   "cell_type": "code",
   "execution_count": 20,
   "metadata": {},
   "outputs": [
    {
     "name": "stdout",
     "output_type": "stream",
     "text": [
      "Shape:  (17779, 1) (17779, 1)\n"
     ]
    },
    {
     "data": {
      "text/plain": [
       "Text(0, 0.5, 'Gross (lifetime)')"
      ]
     },
     "execution_count": 20,
     "metadata": {},
     "output_type": "execute_result"
    },
    {
     "data": {
      "image/png": "[encoded data removed]",
      "text/plain": [
       "<Figure size 432x288 with 1 Axes>"
      ]
     },
     "metadata": {
      "needs_background": "light"
     },
     "output_type": "display_data"
    }
   ],
   "source": [
    "# Assign data to X, y (Sklearn requires a two-dimensional array of values so we use reshape to create this)\n",
    "X = dropped['Year'].values.reshape(-1, 1)\n",
    "y = dropped['Gross (lifetime)'].values.reshape(-1, 1)\n",
    "print(\"Shape: \", X.shape, y.shape)\n",
    "\n",
    "# Plot the data to see if a linear trend exists\n",
    "plt.scatter(X, y)\n",
    "plt.xlabel('Year')\n",
    "plt.ylabel('Gross (lifetime)')"
   ]
  },
  {
   "cell_type": "markdown",
   "metadata": {},
   "source": [
    "### All movies: Oscar nominations by year"
   ]
  },
  {
   "cell_type": "code",
   "execution_count": 21,
   "metadata": {},
   "outputs": [
    {
     "name": "stdout",
     "output_type": "stream",
     "text": [
      "Shape:  (17779, 1) (17779, 1)\n"
     ]
    },
    {
     "data": {
      "text/plain": [
       "Text(0, 0.5, 'Nominations')"
      ]
     },
     "execution_count": 21,
     "metadata": {},
     "output_type": "execute_result"
    },
    {
     "data": {
      "image/png": "[encoded data removed]",
      "text/plain": [
       "<Figure size 432x288 with 1 Axes>"
      ]
     },
     "metadata": {
      "needs_background": "light"
     },
     "output_type": "display_data"
    }
   ],
   "source": [
    "# Assign data to X, y (Sklearn requires a two-dimensional array of values so we use reshape to create this)\n",
    "X = dropped['Year'].values.reshape(-1, 1)\n",
    "y = dropped['Nominations'].values.reshape(-1, 1)\n",
    "print(\"Shape: \", X.shape, y.shape)\n",
    "\n",
    "# Plot the data to see if a linear trend exists\n",
    "plt.scatter(X, y)\n",
    "plt.xlabel('Year')\n",
    "plt.ylabel('Nominations')"
   ]
  },
  {
   "cell_type": "markdown",
   "metadata": {},
   "source": [
    "### All movies: Oscar wins by year"
   ]
  },
  {
   "cell_type": "code",
   "execution_count": 22,
   "metadata": {},
   "outputs": [
    {
     "name": "stdout",
     "output_type": "stream",
     "text": [
      "Shape:  (17779, 1) (17779, 1)\n"
     ]
    },
    {
     "data": {
      "text/plain": [
       "Text(0, 0.5, 'Awards')"
      ]
     },
     "execution_count": 22,
     "metadata": {},
     "output_type": "execute_result"
    },
    {
     "data": {
      "image/png": "[encoded data removed]",
      "text/plain": [
       "<Figure size 432x288 with 1 Axes>"
      ]
     },
     "metadata": {
      "needs_background": "light"
     },
     "output_type": "display_data"
    }
   ],
   "source": [
    "# Assign data to X, y (Sklearn requires a two-dimensional array of values so we use reshape to create this)\n",
    "X = dropped['Year'].values.reshape(-1, 1)\n",
    "y = dropped['Awards'].values.reshape(-1, 1)\n",
    "print(\"Shape: \", X.shape, y.shape)\n",
    "\n",
    "# Plot the data to see if a linear trend exists\n",
    "plt.scatter(X, y)\n",
    "plt.xlabel('Year')\n",
    "plt.ylabel('Awards')"
   ]
  },
  {
   "cell_type": "markdown",
   "metadata": {},
   "source": [
    "## One genre (Drama) 🎭"
   ]
  },
  {
   "cell_type": "code",
   "execution_count": 24,
   "metadata": {},
   "outputs": [],
   "source": [
    "# Filter to Drama\n",
    "drama = dropped[dropped['Genre (main)']==6]\n",
    "\n",
    "# Reset index to avoid sklearn problems\n",
    "drama = drama.reset_index()\n",
    "drama = drama.drop(['index'], axis=1)"
   ]
  },
  {
   "cell_type": "markdown",
   "metadata": {},
   "source": [
    "### Drama: Votes by Average rating"
   ]
  },
  {
   "cell_type": "code",
   "execution_count": 25,
   "metadata": {},
   "outputs": [
    {
     "data": {
      "text/plain": [
       "Text(0, 0.5, 'Votes')"
      ]
     },
     "execution_count": 25,
     "metadata": {},
     "output_type": "execute_result"
    },
    {
     "data": {
      "image/png": "[encoded data removed]",
      "text/plain": [
       "<Figure size 432x288 with 1 Axes>"
      ]
     },
     "metadata": {
      "needs_background": "light"
     },
     "output_type": "display_data"
    }
   ],
   "source": [
    "# Assign data to X, y (Sklearn requires a two-dimensional array of values so we use reshape to create this)\n",
    "X = drama['Rating (avg.)'].values.reshape(-1, 1)\n",
    "y = drama['Votes'].values.reshape(-1, 1)\n",
    "#print(\"Shape: \", X.shape, y.shape)\n",
    "\n",
    "# Plot the data to see if a linear trend exists\n",
    "plt.scatter(X, y)\n",
    "plt.xlabel('Rating (avg.)')\n",
    "plt.ylabel('Votes')"
   ]
  },
  {
   "cell_type": "markdown",
   "metadata": {},
   "source": [
    "### Drama: Average rating by year"
   ]
  },
  {
   "cell_type": "code",
   "execution_count": 26,
   "metadata": {},
   "outputs": [
    {
     "name": "stdout",
     "output_type": "stream",
     "text": [
      "Shape:  (5669, 1) (5669, 1)\n"
     ]
    },
    {
     "data": {
      "text/plain": [
       "Text(0, 0.5, 'Rating (avg.)')"
      ]
     },
     "execution_count": 26,
     "metadata": {},
     "output_type": "execute_result"
    },
    {
     "data": {
      "image/png": "[encoded data removed]",
      "text/plain": [
       "<Figure size 432x288 with 1 Axes>"
      ]
     },
     "metadata": {
      "needs_background": "light"
     },
     "output_type": "display_data"
    }
   ],
   "source": [
    "# Assign data to X, y (Sklearn requires a two-dimensional array of values so we use reshape to create this)\n",
    "X = drama['Year'].values.reshape(-1, 1)\n",
    "y = drama['Rating (avg.)'].values.reshape(-1, 1)\n",
    "print(\"Shape: \", X.shape, y.shape)\n",
    "\n",
    "# Plot the data to see if a linear trend exists\n",
    "plt.scatter(X, y)\n",
    "plt.xlabel('Year')\n",
    "plt.ylabel('Rating (avg.)')"
   ]
  },
  {
   "cell_type": "markdown",
   "metadata": {},
   "source": [
    "### Drama: Lifetime gross by year"
   ]
  },
  {
   "cell_type": "code",
   "execution_count": 27,
   "metadata": {},
   "outputs": [
    {
     "name": "stdout",
     "output_type": "stream",
     "text": [
      "Shape:  (5669, 1) (5669, 1)\n"
     ]
    },
    {
     "data": {
      "text/plain": [
       "Text(0, 0.5, 'Gross (lifetime)')"
      ]
     },
     "execution_count": 27,
     "metadata": {},
     "output_type": "execute_result"
    },
    {
     "data": {
      "image/png": "[encoded data removed]",
      "text/plain": [
       "<Figure size 432x288 with 1 Axes>"
      ]
     },
     "metadata": {
      "needs_background": "light"
     },
     "output_type": "display_data"
    }
   ],
   "source": [
    "# Assign data to X, y (Sklearn requires a two-dimensional array of values so we use reshape to create this)\n",
    "X = drama['Year'].values.reshape(-1, 1)\n",
    "y = drama['Gross (lifetime)'].values.reshape(-1, 1)\n",
    "print(\"Shape: \", X.shape, y.shape)\n",
    "\n",
    "# Plot the data to see if a linear trend exists\n",
    "plt.scatter(X, y)\n",
    "plt.xlabel('Year')\n",
    "plt.ylabel('Gross (lifetime)')"
   ]
  },
  {
   "cell_type": "markdown",
   "metadata": {},
   "source": [
    "### Drama: Oscar nominations by year"
   ]
  },
  {
   "cell_type": "code",
   "execution_count": 28,
   "metadata": {},
   "outputs": [
    {
     "name": "stdout",
     "output_type": "stream",
     "text": [
      "Shape:  (5669, 1) (5669, 1)\n"
     ]
    },
    {
     "data": {
      "text/plain": [
       "Text(0, 0.5, 'Nominations')"
      ]
     },
     "execution_count": 28,
     "metadata": {},
     "output_type": "execute_result"
    },
    {
     "data": {
      "image/png": "[encoded data removed]",
      "text/plain": [
       "<Figure size 432x288 with 1 Axes>"
      ]
     },
     "metadata": {
      "needs_background": "light"
     },
     "output_type": "display_data"
    }
   ],
   "source": [
    "# Assign data to X, y (Sklearn requires a two-dimensional array of values so we use reshape to create this)\n",
    "X = drama['Year'].values.reshape(-1, 1)\n",
    "y = drama['Nominations'].values.reshape(-1, 1)\n",
    "print(\"Shape: \", X.shape, y.shape)\n",
    "\n",
    "# Plot the data to see if a linear trend exists\n",
    "plt.scatter(X, y)\n",
    "plt.xlabel('Year')\n",
    "plt.ylabel('Nominations')"
   ]
  },
  {
   "cell_type": "markdown",
   "metadata": {},
   "source": [
    "### Drama: Oscar wins by year"
   ]
  },
  {
   "cell_type": "code",
   "execution_count": 29,
   "metadata": {},
   "outputs": [
    {
     "name": "stdout",
     "output_type": "stream",
     "text": [
      "Shape:  (5669, 1) (5669, 1)\n"
     ]
    },
    {
     "data": {
      "text/plain": [
       "Text(0, 0.5, 'Awards')"
      ]
     },
     "execution_count": 29,
     "metadata": {},
     "output_type": "execute_result"
    },
    {
     "data": {
      "image/png": "[encoded data removed]",
      "text/plain": [
       "<Figure size 432x288 with 1 Axes>"
      ]
     },
     "metadata": {
      "needs_background": "light"
     },
     "output_type": "display_data"
    }
   ],
   "source": [
    "# Assign data to X, y (Sklearn requires a two-dimensional array of values so we use reshape to create this)\n",
    "X = drama['Year'].values.reshape(-1, 1)\n",
    "y = drama['Awards'].values.reshape(-1, 1)\n",
    "print(\"Shape: \", X.shape, y.shape)\n",
    "\n",
    "# Plot the data to see if a linear trend exists\n",
    "plt.scatter(X, y)\n",
    "plt.xlabel('Year')\n",
    "plt.ylabel('Awards')"
   ]
  },
  {
   "cell_type": "markdown",
   "metadata": {},
   "source": [
    "## Training"
   ]
  },
  {
   "cell_type": "markdown",
   "metadata": {},
   "source": [
    "### For dramas, can we predict how many votes we would have with a given average rating?"
   ]
  },
  {
   "cell_type": "code",
   "execution_count": 30,
   "metadata": {},
   "outputs": [],
   "source": [
    "# Assign data to X, y (Sklearn requires a two-dimensional array of values so we use reshape to create this)\n",
    "X = drama['Rating (avg.)'].values.reshape(-1, 1)\n",
    "y = drama['Votes'].values.reshape(-1, 1)\n",
    "#print(\"Shape: \", X.shape, y.shape)"
   ]
  },
  {
   "cell_type": "code",
   "execution_count": 31,
   "metadata": {},
   "outputs": [],
   "source": [
    "# Split data into training and testing sets\n",
    "from sklearn.model_selection import train_test_split\n",
    "X_train, X_test, y_train, y_test = train_test_split(X, y, random_state=42)"
   ]
  },
  {
   "cell_type": "code",
   "execution_count": 35,
   "metadata": {},
   "outputs": [],
   "source": [
    "# Drop NaN\n",
    "X = X[np.logical_not(np.isnan(X))]\n",
    "y = y[np.logical_not(np.isnan(y))]"
   ]
  },
  {
   "cell_type": "code",
   "execution_count": 36,
   "metadata": {},
   "outputs": [],
   "source": [
    "# Create model\n",
    "from sklearn.linear_model import LinearRegression\n",
    "model = LinearRegression()"
   ]
  },
  {
   "cell_type": "code",
   "execution_count": 47,
   "metadata": {},
   "outputs": [
    {
     "data": {
      "text/plain": [
       "LinearRegression(copy_X=True, fit_intercept=True, n_jobs=None, normalize=False)"
      ]
     },
     "execution_count": 47,
     "metadata": {},
     "output_type": "execute_result"
    }
   ],
   "source": [
    "# Fit model to training data\n",
    "model.fit(X_train, y_train)"
   ]
  },
  {
   "cell_type": "code",
   "execution_count": 49,
   "metadata": {},
   "outputs": [
    {
     "name": "stdout",
     "output_type": "stream",
     "text": [
      "Mean Squared Error (MSE): 8162752957.356545\n",
      "R-squared (R2): 0.048029341797336755\n"
     ]
    }
   ],
   "source": [
    "# Calculate mean_squared_error and r-squared value for testing data\n",
    "from sklearn.metrics import mean_squared_error, r2_score\n",
    "\n",
    "# Use model to make predictions\n",
    "predicted = model.predict(X_test)\n",
    "\n",
    "# Score predictions\n",
    "mse = mean_squared_error(y_test, predicted)\n",
    "r2 = r2_score(y_test, predicted)\n",
    "\n",
    "print(f\"Mean Squared Error (MSE): {mse}\")\n",
    "print(f\"R-squared (R2): {r2}\")"
   ]
  },
  {
   "cell_type": "code",
   "execution_count": 50,
   "metadata": {},
   "outputs": [
    {
     "data": {
      "text/plain": [
       "0.048029341797336755"
      ]
     },
     "execution_count": 50,
     "metadata": {},
     "output_type": "execute_result"
    }
   ],
   "source": [
    "# Show r2 score for model\n",
    "model.score(X_test, y_test)"
   ]
  },
  {
   "cell_type": "code",
   "execution_count": 51,
   "metadata": {},
   "outputs": [
    {
     "name": "stdout",
     "output_type": "stream",
     "text": [
      "Training score: 0.059556483037829906\n",
      "Testing score: 0.048029341797336755\n"
     ]
    }
   ],
   "source": [
    "# Score and print scores\n",
    "training_score = model.score(X_train, y_train)\n",
    "testing_score = model.score(X_test, y_test)\n",
    "\n",
    "print(f\"Training score: {training_score}\")\n",
    "print(f\"Testing score: {testing_score}\")"
   ]
  },
  {
   "cell_type": "code",
   "execution_count": 52,
   "metadata": {},
   "outputs": [
    {
     "data": {
      "text/plain": [
       "Text(0.5, 1.0, 'Residual plot')"
      ]
     },
     "execution_count": 52,
     "metadata": {},
     "output_type": "execute_result"
    },
    {
     "data": {
      "image/png": "[encoded data removed]",
      "text/plain": [
       "<Figure size 432x288 with 1 Axes>"
      ]
     },
     "metadata": {
      "needs_background": "light"
     },
     "output_type": "display_data"
    }
   ],
   "source": [
    "# Plot residuals\n",
    "plt.scatter(model.predict(X_train), model.predict(X_train) - y_train, c=\"blue\", label=\"Training data\")\n",
    "plt.scatter(model.predict(X_test), model.predict(X_test) - y_test, c=\"red\", label=\"Testing data\")\n",
    "plt.legend()\n",
    "plt.hlines(y=0, xmin=y.min(), xmax=y.max())\n",
    "plt.title(\"Residual plot\")"
   ]
  },
  {
   "cell_type": "markdown",
   "metadata": {},
   "source": [
    "# Machine Learning 2: Multiple Linear Regression"
   ]
  },
  {
   "cell_type": "code",
   "execution_count": null,
   "metadata": {},
   "outputs": [],
   "source": [
    "# Assign data to X, y (Sklearn requires a two-dimensional array of values so we use reshape to create this)\n",
    "X = dropped['Rating (avg.)'].values.reshape(-1, 1)\n",
    "y = dropped['Votes'].values.reshape(-1, 1)\n",
    "print(\"Shape: \", X.shape, y.shape)"
   ]
  },
  {
   "cell_type": "code",
   "execution_count": null,
   "metadata": {},
   "outputs": [],
   "source": [
    "fig = plt.figure()\n",
    "ax = fig.add_subplot(111, projection='3d')\n",
    "x = dropped['Genre (main)']\n",
    "y = dropped['Year']\n",
    "z = dropped['Rating (avg.)']\n",
    "\n",
    "ax.scatter(x, y, z, c='b')\n",
    "ax.set_xlabel('Genre (main)')\n",
    "ax.set_ylabel('Year')\n",
    "ax.set_zlabel('Rating (avg.)')\n",
    "\n",
    "plt.show()"
   ]
  },
  {
   "cell_type": "code",
   "execution_count": null,
   "metadata": {},
   "outputs": [],
   "source": [
    "# Note: The weights are how important each feature is to the equation. This is the part that the algorithm has to learn. Multiple Linear Regression simply means that you have more than one feature variable.\n",
    "# Generate a linear dataset with three features\n",
    "\n",
    "from sklearn.datasets import make_regression\n",
    "\n",
    "n_features = 3\n",
    "X, y = make_regression(n_samples=30, n_features=n_features, n_informative=n_features, random_state=42,  noise=0.5, bias=100.0)\n",
    "print(X.shape)"
   ]
  },
  {
   "cell_type": "code",
   "execution_count": null,
   "metadata": {},
   "outputs": [],
   "source": [
    "# We can still visualize 3 features as a 3D plot, but what about n-dimensions? This becomes very difficult for the human brain to visualize.\n",
    "# We could pick just one feature from X to fit our model, but what we really want it to find a line that best fits the data in n-dimensional space. To achieve this, Linear Regression can be solved using the analytical approach called Ordinary Least Squares or a computational approach Gradient Descent for estimating the parameters. Note that there are tradeoffs between using either approach. The Linear Regression model in Sklearn uses the Ordinary Least Squares method.\n",
    "# Luckily, we can just supply our n-dimensional features and sklearn will fit the model using all of our features.\n",
    "\n",
    "from sklearn.linear_model import LinearRegression\n",
    "model = LinearRegression()\n",
    "\n",
    "# Fitting our model with all of our features in X\n",
    "model.fit(X, y)\n",
    "score = model.score(X, y)\n",
    "print(f\"R2 Score: {score}\")"
   ]
  },
  {
   "cell_type": "code",
   "execution_count": null,
   "metadata": {},
   "outputs": [],
   "source": [
    "# Because we can't easily plot our line in 3D space, we can use a residual plot to check our predictions. Residuals are the difference between the true values of y and the predicted values of y.\n",
    "# We want our predictions to be close to zero on the y-axis in this plot.\n",
    "\n",
    "predictions = model.predict(X)\n",
    "\n",
    "# Plot residuals\n",
    "plt.scatter(predictions, predictions - y)\n",
    "plt.hlines(y=0, xmin=predictions.min(), xmax=predictions.max())\n",
    "plt.show()"
   ]
  },
  {
   "cell_type": "markdown",
   "metadata": {},
   "source": [
    "## Backlog"
   ]
  },
  {
   "cell_type": "markdown",
   "metadata": {},
   "source": [
    "Additional potential analyses\n",
    " - More on genres\n",
    " - Studio\n",
    " - Budget\n",
    " - MPAA rating\n",
    " - Country\n",
    " - Language\n",
    " - Average gross/movie\n",
    " - Text analysis on titles\n",
    "\n",
    "Refine/refactor\n",
    " - Duplicates (without losing important data)\n",
    " - Text preparation \n",
    " - Interactive website (genres with charts)\n"
   ]
  }
 ],
 "metadata": {
  "kernelspec": {
   "display_name": "Python 3",
   "language": "python",
   "name": "python3"
  },
  "language_info": {
   "codemirror_mode": {
    "name": "ipython",
    "version": 3
   },
   "file_extension": ".py",
   "mimetype": "text/x-python",
   "name": "python",
   "nbconvert_exporter": "python",
   "pygments_lexer": "ipython3",
   "version": "3.8.2"
  }
 },
 "nbformat": 4,
 "nbformat_minor": 4
}
