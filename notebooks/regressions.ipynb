{
 "cells": [
  {
   "cell_type": "markdown",
   "metadata": {},
   "source": [
    "# Movies"
   ]
  },
  {
   "cell_type": "markdown",
   "metadata": {},
   "source": [
    "_We live in a box of space and time. Movies are windows in its walls. They allow us to enter other minds, not simply in the sense of identifying with the characters, although that is an important part of it, but by seeing the world as another person sees it._ - Roger Ebert"
   ]
  },
  {
   "cell_type": "markdown",
   "metadata": {},
   "source": [
    "## Setup and data cleaning"
   ]
  },
  {
   "cell_type": "markdown",
   "metadata": {},
   "source": [
    "Caveat: split years...."
   ]
  },
  {
   "cell_type": "code",
   "execution_count": 1,
   "metadata": {},
   "outputs": [],
   "source": [
    "# Dependencies\n",
    "%matplotlib inline\n",
    "import matplotlib.pyplot as plt\n",
    "import numpy as np \n",
    "from numpy import NaN\n",
    "import pandas as pd\n",
    "from mpl_toolkits.mplot3d import Axes3D"
   ]
  },
  {
   "cell_type": "code",
   "execution_count": 2,
   "metadata": {},
   "outputs": [],
   "source": [
    "# Import movies (IMDB)\n",
    "title_basics = pd.read_csv('../data/title.basics.tsv',delimiter='\\t',encoding='utf-8-sig', low_memory=False)\n",
    "\n",
    "# Import ratings\n",
    "title_ratings = pd.read_csv('../data/title.ratings.tsv',delimiter='\\t',encoding='utf-8-sig')\n",
    "\n",
    "# Import crew\n",
    "title_crew = pd.read_csv('../data/title.crew.tsv',delimiter='\\t',encoding='utf-8-sig')\n",
    "\n",
    "# Import name basics\n",
    "name_basics = pd.read_csv('../data/name.basics.tsv',delimiter='\\t',encoding='utf-8-sig')\n",
    "\n",
    "# Import box office data (BoxOfficeMojo)\n",
    "box_office = pd.read_csv('../data/boxoffice.csv')\n",
    "\n",
    "# Import Oscar data (https://en.wikipedia.org/wiki/List_of_Academy_Award-winning_films)\n",
    "oscars = pd.read_csv('../data/oscars_cleaned.csv')"
   ]
  },
  {
   "cell_type": "code",
   "execution_count": 95,
   "metadata": {},
   "outputs": [],
   "source": [
    "# Filter non-movies, adult movies\n",
    "title_filtered = title_basics[title_basics['titleType']=='movie']\n",
    "title_filtered = title_filtered[title_filtered['isAdult']==0]"
   ]
  },
  {
   "cell_type": "code",
   "execution_count": 96,
   "metadata": {},
   "outputs": [],
   "source": [
    "# Split out genres and join\n",
    "genres_split = title_filtered[\"genres\"].str.split(\",\", n=2, expand=True)\n",
    "joined = title_filtered.join(genres_split)\n",
    "\n",
    "# Rename and drop some columns\n",
    "cleaned = joined.rename(columns = {'tconst':'IMDB ID', 'titleType': 'Type', 'primaryTitle': 'Title', 'originalTitle': 'Title (original)', 'startYear': 'Year', 'runtimeMinutes': 'Runtime (min)', 0:'Genre (main)', 1:'Genre (sub 1)', 2:'Genre (sub 2)'})\n",
    "cleaned = cleaned.drop(columns=['endYear', 'genres', 'Genre (sub 1)', 'Genre (sub 2)', 'Title (original)'])"
   ]
  },
  {
   "cell_type": "code",
   "execution_count": 178,
   "metadata": {},
   "outputs": [],
   "source": [
    "# Merge basic set and rating\n",
    "with_ratings = cleaned.set_index('IMDB ID').join(title_ratings.set_index('tconst'))\n",
    "with_ratings = with_ratings.rename(columns = {'averageRating': 'Rating (avg.)', 'numVotes': 'Votes'})\n",
    "\n",
    "# Merge box office and Oscars\n",
    "merged = pd.merge(box_office, oscars, left_on='title', right_on='Film', how='outer')"
   ]
  },
  {
   "cell_type": "code",
   "execution_count": 179,
   "metadata": {},
   "outputs": [],
   "source": [
    "# Merge both of above to make combined set\n",
    "combined = with_ratings.merge(merged,how='left', left_on='Title', right_on='title')\n",
    "\n",
    "# Drop, rename, change \\N to NaN\n",
    "combined = combined.drop(['Type', 'isAdult', 'Year_y', 'year', 'rank', 'title', 'Film'], axis=1)\n",
    "combined = combined.rename(columns = {'Year_x': 'Year', 'studio': 'Studio', 'lifetime_gross': 'Gross (lifetime)'})\n",
    "combined = combined.replace(r'\\\\N','NaN', regex=True)\n",
    "combined = combined[combined['Runtime (min)']!='NaN']\n",
    "combined = combined[combined['Genre (main)']!='NaN']\n",
    "\n",
    "# Convert NaN to 0 for Awards and Nominiations\n",
    "combined['Awards']=combined['Awards'].fillna(0)\n",
    "combined['Nominations']=combined['Nominations'].fillna(0)"
   ]
  },
  {
   "cell_type": "code",
   "execution_count": 180,
   "metadata": {},
   "outputs": [
    {
     "data": {
      "text/plain": [
       "Title               19562\n",
       "Year                19562\n",
       "Runtime (min)       19562\n",
       "Genre (main)        19562\n",
       "Rating (avg.)       19562\n",
       "Votes               19562\n",
       "Studio              19562\n",
       "Gross (lifetime)    19562\n",
       "Awards              19562\n",
       "Nominations         19562\n",
       "dtype: int64"
      ]
     },
     "execution_count": 180,
     "metadata": {},
     "output_type": "execute_result"
    }
   ],
   "source": [
    "## Drop items we don't have data for (i.e. Studio or Gross (lifetime) data)\n",
    "dropped = combined.dropna(axis='rows')\n",
    "dropped.count()"
   ]
  },
  {
   "cell_type": "code",
   "execution_count": 181,
   "metadata": {},
   "outputs": [],
   "source": [
    "# Reset index to avoid sklearn problems\n",
    "dropped = dropped.reset_index()\n",
    "dropped = dropped.drop(['index'], axis=1)\n",
    "dropped['Votes'] = dropped['Votes'].astype(int)\n",
    "dropped['Awards'] = dropped['Awards'].astype(int)\n",
    "dropped['Nominations'] = dropped['Nominations'].astype(int)\n",
    "dropped['Gross (lifetime)'] = dropped['Gross (lifetime)'].astype(int)"
   ]
  },
  {
   "cell_type": "code",
   "execution_count": 182,
   "metadata": {},
   "outputs": [],
   "source": [
    "## Identify duplicates titles – FIX SO AWARD DATA NOT LOST\n",
    "#dropped['Duplicate'] = dropped['Title'].duplicated()\n",
    "#dropped = dropped[dropped['Duplicate']==True]\n",
    "#dropped.count()"
   ]
  },
  {
   "cell_type": "code",
   "execution_count": 183,
   "metadata": {},
   "outputs": [
    {
     "data": {
      "text/plain": [
       "array(['Biography', 'Drama', 'Western', 'Action', 'Mystery', 'Comedy',\n",
       "       'Adventure', 'Horror', 'Fantasy', 'Romance', 'Documentary',\n",
       "       'Crime', 'Musical', 'Sci-Fi', 'Animation', 'Film-Noir', 'Family',\n",
       "       'Thriller', 'Music', 'History', 'War', 'Sport'], dtype=object)"
      ]
     },
     "execution_count": 183,
     "metadata": {},
     "output_type": "execute_result"
    }
   ],
   "source": [
    "# List out genres\n",
    "genre_list = dropped['Genre (main)'].unique()\n",
    "genre_list"
   ]
  },
  {
   "cell_type": "code",
   "execution_count": 184,
   "metadata": {},
   "outputs": [],
   "source": [
    "## REFACTOR: Condense/find more efficient way to do this, possibly: https://machinelearningmastery.com/prepare-text-data-machine-learning-scikit-learn/\n",
    "## Code genres numerically\n",
    "dropped['Genre (main)'] = dropped['Genre (main)'].replace(r'Action',1, regex=True)\n",
    "dropped['Genre (main)'] = dropped['Genre (main)'].replace(r'Adventure',2, regex=True)\n",
    "dropped['Genre (main)'] = dropped['Genre (main)'].replace(r'Animation',3, regex=True)\n",
    "dropped['Genre (main)'] = dropped['Genre (main)'].replace(r'Biography',4, regex=True)\n",
    "dropped['Genre (main)'] = dropped['Genre (main)'].replace(r'Comedy',5, regex=True)\n",
    "dropped['Genre (main)'] = dropped['Genre (main)'].replace(r'Crime',6, regex=True)\n",
    "dropped['Genre (main)'] = dropped['Genre (main)'].replace(r'Drama',7, regex=True)\n",
    "dropped['Genre (main)'] = dropped['Genre (main)'].replace(r'Documentary',8, regex=True)\n",
    "dropped['Genre (main)'] = dropped['Genre (main)'].replace(r'Family',9, regex=True)\n",
    "dropped['Genre (main)'] = dropped['Genre (main)'].replace(r'Fantasy',10, regex=True)\n",
    "dropped['Genre (main)'] = dropped['Genre (main)'].replace(r'Film-Noir',11, regex=True)\n",
    "dropped['Genre (main)'] = dropped['Genre (main)'].replace(r'History',12, regex=True)\n",
    "dropped['Genre (main)'] = dropped['Genre (main)'].replace(r'Horror',13, regex=True)\n",
    "dropped['Genre (main)'] = dropped['Genre (main)'].replace(r'Music',14, regex=True)\n",
    "dropped['Genre (main)'] = dropped['Genre (main)'].replace(r'Musical',15, regex=True)\n",
    "dropped['Genre (main)'] = dropped['Genre (main)'].replace(r'Mystery',16, regex=True)\n",
    "dropped['Genre (main)'] = dropped['Genre (main)'].replace(r'Romance',17, regex=True)\n",
    "dropped['Genre (main)'] = dropped['Genre (main)'].replace(r'Sci-Fi',18, regex=True)\n",
    "dropped['Genre (main)'] = dropped['Genre (main)'].replace(r'Sport',19, regex=True)\n",
    "dropped['Genre (main)'] = dropped['Genre (main)'].replace(r'Thriller',20, regex=True)\n",
    "dropped['Genre (main)'] = dropped['Genre (main)'].replace(r'War',21, regex=True)\n",
    "dropped['Genre (main)'] = dropped['Genre (main)'].replace(r'Western',22, regex=True)"
   ]
  },
  {
   "cell_type": "code",
   "execution_count": 185,
   "metadata": {},
   "outputs": [
    {
     "data": {
      "text/html": [
       "<div>\n",
       "<style scoped>\n",
       "    .dataframe tbody tr th:only-of-type {\n",
       "        vertical-align: middle;\n",
       "    }\n",
       "\n",
       "    .dataframe tbody tr th {\n",
       "        vertical-align: top;\n",
       "    }\n",
       "\n",
       "    .dataframe thead th {\n",
       "        text-align: right;\n",
       "    }\n",
       "</style>\n",
       "<table border=\"1\" class=\"dataframe\">\n",
       "  <thead>\n",
       "    <tr style=\"text-align: right;\">\n",
       "      <th></th>\n",
       "      <th>Title</th>\n",
       "      <th>Year</th>\n",
       "      <th>Runtime (min)</th>\n",
       "      <th>Genre (main)</th>\n",
       "      <th>Rating (avg.)</th>\n",
       "      <th>Votes</th>\n",
       "      <th>Gross (lifetime)</th>\n",
       "      <th>Awards</th>\n",
       "      <th>Nominations</th>\n",
       "    </tr>\n",
       "  </thead>\n",
       "  <tbody>\n",
       "    <tr>\n",
       "      <th>0</th>\n",
       "      <td>Passion</td>\n",
       "      <td>1919</td>\n",
       "      <td>85</td>\n",
       "      <td>4</td>\n",
       "      <td>6.8</td>\n",
       "      <td>732</td>\n",
       "      <td>92181</td>\n",
       "      <td>0</td>\n",
       "      <td>0</td>\n",
       "    </tr>\n",
       "    <tr>\n",
       "      <th>1</th>\n",
       "      <td>The Count of Monte Cristo</td>\n",
       "      <td>1913</td>\n",
       "      <td>69</td>\n",
       "      <td>7</td>\n",
       "      <td>5.6</td>\n",
       "      <td>37</td>\n",
       "      <td>54234062</td>\n",
       "      <td>0</td>\n",
       "      <td>0</td>\n",
       "    </tr>\n",
       "    <tr>\n",
       "      <th>2</th>\n",
       "      <td>The Escape</td>\n",
       "      <td>1914</td>\n",
       "      <td>60</td>\n",
       "      <td>7</td>\n",
       "      <td>5.9</td>\n",
       "      <td>15</td>\n",
       "      <td>12074</td>\n",
       "      <td>0</td>\n",
       "      <td>0</td>\n",
       "    </tr>\n",
       "    <tr>\n",
       "      <th>3</th>\n",
       "      <td>Jane Eyre</td>\n",
       "      <td>1914</td>\n",
       "      <td>50</td>\n",
       "      <td>7</td>\n",
       "      <td>6.6</td>\n",
       "      <td>7</td>\n",
       "      <td>11242660</td>\n",
       "      <td>0</td>\n",
       "      <td>0</td>\n",
       "    </tr>\n",
       "    <tr>\n",
       "      <th>4</th>\n",
       "      <td>The Birth of a Nation</td>\n",
       "      <td>1915</td>\n",
       "      <td>195</td>\n",
       "      <td>7</td>\n",
       "      <td>6.4</td>\n",
       "      <td>21494</td>\n",
       "      <td>15861566</td>\n",
       "      <td>0</td>\n",
       "      <td>0</td>\n",
       "    </tr>\n",
       "  </tbody>\n",
       "</table>\n",
       "</div>"
      ],
      "text/plain": [
       "                       Title  Year Runtime (min)  Genre (main)  Rating (avg.)  \\\n",
       "0                    Passion  1919            85             4            6.8   \n",
       "1  The Count of Monte Cristo  1913            69             7            5.6   \n",
       "2                 The Escape  1914            60             7            5.9   \n",
       "3                  Jane Eyre  1914            50             7            6.6   \n",
       "4      The Birth of a Nation  1915           195             7            6.4   \n",
       "\n",
       "   Votes  Gross (lifetime)  Awards  Nominations  \n",
       "0    732             92181       0            0  \n",
       "1     37          54234062       0            0  \n",
       "2     15             12074       0            0  \n",
       "3      7          11242660       0            0  \n",
       "4  21494          15861566       0            0  "
      ]
     },
     "execution_count": 185,
     "metadata": {},
     "output_type": "execute_result"
    }
   ],
   "source": [
    "# Drop the studios. There are a lot, and we're not using them right now\n",
    "dropped = dropped.drop(['Studio'], axis=1)\n",
    "dropped.head()"
   ]
  },
  {
   "cell_type": "markdown",
   "metadata": {},
   "source": [
    "# Machine Learning 1: Regression"
   ]
  },
  {
   "cell_type": "code",
   "execution_count": 211,
   "metadata": {},
   "outputs": [
    {
     "name": "stdout",
     "output_type": "stream",
     "text": [
      "Shape:  (19562, 1) (19562, 1)\n"
     ]
    }
   ],
   "source": [
    "# Assign data to X, y (Sklearn requires a two-dimensional array of values so we use reshape to create this)\n",
    "X = dropped['Rating (avg.)'].values.reshape(-1, 1)\n",
    "y = dropped['Votes'].values.reshape(-1, 1)\n",
    "print(\"Shape: \", X.shape, y.shape)"
   ]
  },
  {
   "cell_type": "code",
   "execution_count": 212,
   "metadata": {},
   "outputs": [
    {
     "data": {
      "text/plain": [
       "Text(0, 0.5, 'Votes')"
      ]
     },
     "execution_count": 212,
     "metadata": {},
     "output_type": "execute_result"
    },
    {
     "data": {
      "image/png": "[encoded data removed]",
      "text/plain": [
       "<Figure size 432x288 with 1 Axes>"
      ]
     },
     "metadata": {
      "needs_background": "light"
     },
     "output_type": "display_data"
    }
   ],
   "source": [
    "# Plot the data to see if a linear trend exists\n",
    "plt.scatter(X, y)\n",
    "plt.xlabel('Rating (avg.)')\n",
    "plt.ylabel('Votes')"
   ]
  },
  {
   "cell_type": "code",
   "execution_count": 192,
   "metadata": {},
   "outputs": [],
   "source": [
    "# Split data into training and testing sets\n",
    "from sklearn.model_selection import train_test_split\n",
    "X_train, X_test, y_train, y_test = train_test_split(X, y, random_state=42)"
   ]
  },
  {
   "cell_type": "code",
   "execution_count": 193,
   "metadata": {},
   "outputs": [],
   "source": [
    "# Drop NaN\n",
    "X = X[np.logical_not(np.isnan(X))]\n",
    "y = y[np.logical_not(np.isnan(y))]"
   ]
  },
  {
   "cell_type": "code",
   "execution_count": 194,
   "metadata": {},
   "outputs": [],
   "source": [
    "# Create model\n",
    "from sklearn.linear_model import LinearRegression\n",
    "model = LinearRegression()"
   ]
  },
  {
   "cell_type": "code",
   "execution_count": 195,
   "metadata": {},
   "outputs": [
    {
     "data": {
      "text/plain": [
       "LinearRegression(copy_X=True, fit_intercept=True, n_jobs=None, normalize=False)"
      ]
     },
     "execution_count": 195,
     "metadata": {},
     "output_type": "execute_result"
    }
   ],
   "source": [
    "# Fit model to training data\n",
    "model.fit(X_train, y_train)"
   ]
  },
  {
   "cell_type": "code",
   "execution_count": 196,
   "metadata": {},
   "outputs": [
    {
     "name": "stdout",
     "output_type": "stream",
     "text": [
      "Mean Squared Error (MSE): 8048858893.161272\n",
      "R-squared (R2): 0.050909694829912255\n"
     ]
    }
   ],
   "source": [
    "# Calculate mean_squared_error and r-squared value for testing data\n",
    "from sklearn.metrics import mean_squared_error, r2_score\n",
    "\n",
    "# Use model to make predictions\n",
    "predicted = model.predict(X_test)\n",
    "\n",
    "# Score predictions\n",
    "mse = mean_squared_error(y_test, predicted)\n",
    "r2 = r2_score(y_test, predicted)\n",
    "\n",
    "print(f\"Mean Squared Error (MSE): {mse}\")\n",
    "print(f\"R-squared (R2): {r2}\")"
   ]
  },
  {
   "cell_type": "code",
   "execution_count": 197,
   "metadata": {},
   "outputs": [
    {
     "data": {
      "text/plain": [
       "0.050909694829912255"
      ]
     },
     "execution_count": 197,
     "metadata": {},
     "output_type": "execute_result"
    }
   ],
   "source": [
    "# Show r2 score for model\n",
    "model.score(X_test, y_test)"
   ]
  },
  {
   "cell_type": "code",
   "execution_count": 198,
   "metadata": {},
   "outputs": [
    {
     "name": "stdout",
     "output_type": "stream",
     "text": [
      "Training score: 0.058004816608874805\n",
      "Testing score: 0.050909694829912255\n"
     ]
    }
   ],
   "source": [
    "# Score and print scores\n",
    "training_score = model.score(X_train, y_train)\n",
    "testing_score = model.score(X_test, y_test)\n",
    "\n",
    "print(f\"Training score: {training_score}\")\n",
    "print(f\"Testing score: {testing_score}\")"
   ]
  },
  {
   "cell_type": "code",
   "execution_count": 199,
   "metadata": {},
   "outputs": [
    {
     "data": {
      "text/plain": [
       "Text(0.5, 1.0, 'Residual plot')"
      ]
     },
     "execution_count": 199,
     "metadata": {},
     "output_type": "execute_result"
    },
    {
     "data": {
      "image/png": "[encoded data removed]",
      "text/plain": [
       "<Figure size 432x288 with 1 Axes>"
      ]
     },
     "metadata": {
      "needs_background": "light"
     },
     "output_type": "display_data"
    }
   ],
   "source": [
    "# Plot residuals\n",
    "plt.scatter(model.predict(X_train), model.predict(X_train) - y_train, c=\"blue\", label=\"Training data\")\n",
    "plt.scatter(model.predict(X_test), model.predict(X_test) - y_test, c=\"orange\", label=\"Testing data\")\n",
    "plt.legend()\n",
    "plt.hlines(y=0, xmin=y.min(), xmax=y.max())\n",
    "plt.title(\"Residual plot\")"
   ]
  },
  {
   "cell_type": "markdown",
   "metadata": {},
   "source": [
    "# Machine Learning 2: Multiple Linear Regression"
   ]
  },
  {
   "cell_type": "code",
   "execution_count": 213,
   "metadata": {},
   "outputs": [
    {
     "name": "stdout",
     "output_type": "stream",
     "text": [
      "Shape:  (19562, 1) (19562, 1)\n"
     ]
    }
   ],
   "source": [
    "# Assign data to X, y (Sklearn requires a two-dimensional array of values so we use reshape to create this)\n",
    "X = dropped['Rating (avg.)'].values.reshape(-1, 1)\n",
    "y = dropped['Votes'].values.reshape(-1, 1)\n",
    "print(\"Shape: \", X.shape, y.shape)"
   ]
  },
  {
   "cell_type": "code",
   "execution_count": 214,
   "metadata": {},
   "outputs": [
    {
     "data": {
      "image/png": "[encoded data removed]",
      "text/plain": [
       "<Figure size 432x288 with 1 Axes>"
      ]
     },
     "metadata": {
      "needs_background": "light"
     },
     "output_type": "display_data"
    }
   ],
   "source": [
    "fig = plt.figure()\n",
    "ax = fig.add_subplot(111, projection='3d')\n",
    "x = dropped['Rating (avg.)']\n",
    "y = dropped['Votes']\n",
    "z = dropped['Gross (lifetime)']\n",
    "\n",
    "ax.scatter(x, y, z, c='b')\n",
    "ax.set_xlabel('Rating (avg.)')\n",
    "ax.set_ylabel('Votes')\n",
    "ax.set_zlabel('Gross (lifetime)')\n",
    "\n",
    "plt.show()"
   ]
  },
  {
   "cell_type": "code",
   "execution_count": 202,
   "metadata": {},
   "outputs": [
    {
     "name": "stdout",
     "output_type": "stream",
     "text": [
      "(30, 3)\n"
     ]
    }
   ],
   "source": [
    "# Note: The weights are how important each feature is to the equation. This is the part that the algorithm has to learn. Multiple Linear Regression simply means that you have more than one feature variable.\n",
    "# Generate a linear dataset with three features\n",
    "\n",
    "from sklearn.datasets import make_regression\n",
    "\n",
    "n_features = 3\n",
    "X, y = make_regression(n_samples=30, n_features=n_features, n_informative=n_features, random_state=42,  noise=0.5, bias=100.0)\n",
    "print(X.shape)"
   ]
  },
  {
   "cell_type": "code",
   "execution_count": 203,
   "metadata": {},
   "outputs": [
    {
     "name": "stdout",
     "output_type": "stream",
     "text": [
      "R2 Score: 0.9999838079561165\n"
     ]
    }
   ],
   "source": [
    "# We can still visualize 3 features as a 3D plot, but what about n-dimensions? This becomes very difficult for the human brain to visualize.\n",
    "# We could pick just one feature from X to fit our model, but what we really want it to find a line that best fits the data in n-dimensional space. To achieve this, Linear Regression can be solved using the analytical approach called Ordinary Least Squares or a computational approach Gradient Descent for estimating the parameters. Note that there are tradeoffs between using either approach. The Linear Regression model in Sklearn uses the Ordinary Least Squares method.\n",
    "# Luckily, we can just supply our n-dimensional features and sklearn will fit the model using all of our features.\n",
    "\n",
    "from sklearn.linear_model import LinearRegression\n",
    "model = LinearRegression()\n",
    "\n",
    "# Fitting our model with all of our features in X\n",
    "model.fit(X, y)\n",
    "score = model.score(X, y)\n",
    "print(f\"R2 Score: {score}\")"
   ]
  },
  {
   "cell_type": "code",
   "execution_count": 204,
   "metadata": {},
   "outputs": [
    {
     "data": {
      "image/png": "[encoded data removed]",
      "text/plain": [
       "<Figure size 432x288 with 1 Axes>"
      ]
     },
     "metadata": {
      "needs_background": "light"
     },
     "output_type": "display_data"
    }
   ],
   "source": [
    "# Because we can't easily plot our line in 3D space, we can use a residual plot to check our predictions. Residuals are the difference between the true values of y and the predicted values of y.\n",
    "# We want our predictions to be close to zero on the y-axis in this plot.\n",
    "\n",
    "predictions = model.predict(X)\n",
    "\n",
    "# Plot residuals\n",
    "plt.scatter(predictions, predictions - y)\n",
    "plt.hlines(y=0, xmin=predictions.min(), xmax=predictions.max())\n",
    "plt.show()"
   ]
  },
  {
   "cell_type": "markdown",
   "metadata": {},
   "source": [
    "## Backlog"
   ]
  },
  {
   "cell_type": "code",
   "execution_count": 172,
   "metadata": {},
   "outputs": [],
   "source": [
    "## Do stuff w/genres\n",
    "## REFACTOR: Break out documentary and animation\n",
    "# TODO: VOTES X GROSS, RATING X AWARDS, RATING X GROSS, GENRES, STUDIO X AWARDS\n",
    "# Calculate avg gross ($) per movie\n",
    "#box_plot['Avg. lifetime gross'] = box_plot['lifetime_gross']/box_plot['title']\n",
    "\n",
    "My plan for tomorrow is to put together a few examples for both regression sections, mostly bringing in analysis with award and genre data\n",
    "I also would like to go through the data set some how – there are duplicates in there, and I’d like to filter them (while not losing important data). I might ask Nate’s help when we meet, or if folks have thoughts on good ways of doing this, HMU\n",
    "It may not be critical…would be good, but I want to make sure the analyses are in a good place first\n",
    "I’m really seeing how much of data work is bringing together data in a useful way, cleaning, etc. I’d still like to integrate country and maybe studio data, but that might have to wait for another project…"
   ]
  },
  {
   "cell_type": "code",
   "execution_count": 169,
   "metadata": {},
   "outputs": [],
   "source": [
    "## More data: Budget, Country (e.g. most popular genres by country)\n",
    "\n",
    "## TODO: FIND MOST COMMON STUDIOS?? CODE?\n",
    "# List out studios\n",
    "#studio_list = dropped['Studio'].unique()\n",
    "#studio_list"
   ]
  }
 ],
 "metadata": {
  "kernelspec": {
   "display_name": "Python 3",
   "language": "python",
   "name": "python3"
  },
  "language_info": {
   "codemirror_mode": {
    "name": "ipython",
    "version": 3
   },
   "file_extension": ".py",
   "mimetype": "text/x-python",
   "name": "python",
   "nbconvert_exporter": "python",
   "pygments_lexer": "ipython3",
   "version": "3.8.2"
  }
 },
 "nbformat": 4,
 "nbformat_minor": 4
}
