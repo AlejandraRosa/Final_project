{
 "cells": [
  {
   "cell_type": "markdown",
   "metadata": {},
   "source": [
    "# Setup and data cleaning"
   ]
  },
  {
   "cell_type": "code",
   "execution_count": 118,
   "metadata": {},
   "outputs": [],
   "source": [
    "# Dependencies\n",
    "%matplotlib inline\n",
    "import pandas as pd\n",
    "import matplotlib.pyplot as plt"
   ]
  },
  {
   "cell_type": "code",
   "execution_count": 119,
   "metadata": {},
   "outputs": [],
   "source": [
    "# Import IMDB movie data\n",
    "title_basics = pd.read_csv('../data/title.basics.tsv',delimiter='\\t',encoding='utf-8-sig',low_memory=False)\n",
    "\n",
    "# Import ratings\n",
    "title_ratings = pd.read_csv('../data/title.ratings.tsv',delimiter='\\t',encoding='utf-8-sig')\n",
    "\n",
    "# Import crew\n",
    "title_crew = pd.read_csv('../data/title.crew.tsv',delimiter='\\t',encoding='utf-8-sig')\n",
    "\n",
    "# Import name basics\n",
    "name_basics = pd.read_csv('../data/name.basics.tsv',delimiter='\\t',encoding='utf-8-sig')\n",
    "\n",
    "# Import box office data from BoxOfficeMojo\n",
    "box_office = pd.read_csv('../data/boxoffice.csv')\n",
    "\n",
    "# Import Oscar data from Wikipedia: https://en.wikipedia.org/wiki/List_of_Academy_Award-winning_films\n",
    "oscars = pd.read_csv('../data/oscars_cleaned.csv')"
   ]
  },
  {
   "cell_type": "code",
   "execution_count": 120,
   "metadata": {},
   "outputs": [],
   "source": [
    "# Filter non-movies, adult movies\n",
    "title_filtered = title_basics[title_basics['titleType']=='movie']\n",
    "title_filtered = title_filtered[title_filtered['isAdult']==0]"
   ]
  },
  {
   "cell_type": "code",
   "execution_count": 129,
   "metadata": {},
   "outputs": [],
   "source": [
    "# Split out genres and join\n",
    "genres_split = title_filtered[\"genres\"].str.split(\",\", n=2, expand=True)\n",
    "joined = title_filtered.join(genres_split)"
   ]
  },
  {
   "cell_type": "code",
   "execution_count": 131,
   "metadata": {},
   "outputs": [],
   "source": [
    "# Rename and drop some columns\n",
    "cleaned = joined.rename(columns = {'tconst':'IMDB ID', 'titleType': 'Type', 'primaryTitle': 'Title', 'originalTitle': 'Title (original)', 'startYear': 'Year', 'runtimeMinutes': 'Runtime (min)', 0:'Genre (main)', 1:'Genre (sub 1)', 2:'Genre (sub 2)'})\n",
    "cleaned = cleaned.drop(columns=['endYear', 'genres', 'Genre (sub 1)', 'Genre (sub 2)', 'Title (original)'])"
   ]
  },
  {
   "cell_type": "code",
   "execution_count": 274,
   "metadata": {},
   "outputs": [],
   "source": [
    "# Drop empty rows\n",
    "cleaned = cleaned.dropna(axis='rows')"
   ]
  },
  {
   "cell_type": "code",
   "execution_count": 140,
   "metadata": {},
   "outputs": [],
   "source": [
    "# Merge basic set and rating\n",
    "with_ratings = cleaned.set_index('IMDB ID').join(title_ratings.set_index('tconst'))\n",
    "with_ratings = with_ratings.rename(columns = {'averageRating': 'Rating (avg.)', 'numVotes': 'Votes'})\n",
    "\n",
    "# Merge box office and Oscars\n",
    "merged = pd.merge(box_office, oscars, left_on='title', right_on='Film', how='outer')"
   ]
  },
  {
   "cell_type": "code",
   "execution_count": 263,
   "metadata": {},
   "outputs": [],
   "source": [
    "# Merge both of above to make combined set\n",
    "combined = with_ratings.merge(merged,how='left', left_on='Title', right_on='title')"
   ]
  },
  {
   "cell_type": "code",
   "execution_count": 266,
   "metadata": {},
   "outputs": [],
   "source": [
    "# Drop, rename\n",
    "combined = combined.drop(['Type', 'isAdult', 'Year_y', 'year', 'rank', 'title', 'Film'], axis=1)\n",
    "combined = combined.rename(columns = {'Year_x': 'Year', 'studio': 'Studio', 'lifetime_gross': 'Gross (lifetime)'})"
   ]
  },
  {
   "cell_type": "code",
   "execution_count": 276,
   "metadata": {},
   "outputs": [
    {
     "data": {
      "text/plain": [
       "Title               540781\n",
       "Year                540781\n",
       "Runtime (min)       540781\n",
       "Genre (main)        540781\n",
       "Rating (avg.)       243681\n",
       "Votes               243681\n",
       "Studio               27293\n",
       "Gross (lifetime)     27357\n",
       "Awards                1312\n",
       "Nominations           1312\n",
       "dtype: int64"
      ]
     },
     "execution_count": 276,
     "metadata": {},
     "output_type": "execute_result"
    }
   ],
   "source": [
    "combined.count()"
   ]
  },
  {
   "cell_type": "markdown",
   "metadata": {},
   "source": [
    "## Things we could integrate"
   ]
  },
  {
   "cell_type": "code",
   "execution_count": null,
   "metadata": {},
   "outputs": [],
   "source": [
    "# https://towardsdatascience.com/collecting-movie-data-445ca1ead8e5\n",
    "# Budget\n",
    "# Country (e.g. most popular genres by country)\n",
    "\n",
    "# Calculate avg gross ($) per movie\n",
    "#box_plot['Avg. lifetime gross'] = box_plot['lifetime_gross']/box_plot['title']\n",
    "\n",
    "# Reset index to get year in column\n",
    "#box_plot.reset_index()"
   ]
  },
  {
   "cell_type": "markdown",
   "metadata": {},
   "source": [
    "# Machine Learning"
   ]
  },
  {
   "cell_type": "code",
   "execution_count": null,
   "metadata": {},
   "outputs": [],
   "source": [
    "# - [prediction] 1/04-Stu_Brains\n",
    "# - [multiple vectors] 1/05-Ins_Multiple_Linear_Regression_Sklearn\n",
    "# - 1/06-Stu_Beer_Foam"
   ]
  }
 ],
 "metadata": {
  "kernelspec": {
   "display_name": "Python 3",
   "language": "python",
   "name": "python3"
  },
  "language_info": {
   "codemirror_mode": {
    "name": "ipython",
    "version": 3
   },
   "file_extension": ".py",
   "mimetype": "text/x-python",
   "name": "python",
   "nbconvert_exporter": "python",
   "pygments_lexer": "ipython3",
   "version": "3.8.2"
  }
 },
 "nbformat": 4,
 "nbformat_minor": 4
}
