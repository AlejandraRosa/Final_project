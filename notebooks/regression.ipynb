{
 "cells": [
  {
   "cell_type": "code",
   "execution_count": 45,
   "metadata": {},
   "outputs": [],
   "source": [
    "# Dependencies\n",
    "%matplotlib inline\n",
    "import pandas as pd\n",
    "import matplotlib.pyplot as plt"
   ]
  },
  {
   "cell_type": "code",
   "execution_count": 59,
   "metadata": {},
   "outputs": [],
   "source": [
    "# Import IMDB movie data\n",
    "title_basics = pd.read_csv('../data/title.basics.tsv',delimiter='\\t',encoding='utf-8-sig',low_memory=False)\n",
    "\n",
    "# Import ratings\n",
    "title_ratings = pd.read_csv('../data/title.ratings.tsv',delimiter='\\t',encoding='utf-8-sig')\n",
    "\n",
    "# Import crew\n",
    "title_crew = pd.read_csv('../data/title.crew.tsv',delimiter='\\t',encoding='utf-8-sig')\n",
    "\n",
    "# Import name basics\n",
    "name_basics = pd.read_csv('../data/name.basics.tsv',delimiter='\\t',encoding='utf-8-sig')\n",
    "\n",
    "# Import box office data from BoxOfficeMojo\n",
    "box_office = pd.read_csv('../data/boxoffice.csv')\n",
    "\n",
    "# Import Oscar data from Wikipedia: https://en.wikipedia.org/wiki/List_of_Academy_Award-winning_films\n",
    "oscars = pd.read_csv('../data/oscars_cleaned.csv')"
   ]
  },
  {
   "cell_type": "code",
   "execution_count": 60,
   "metadata": {},
   "outputs": [],
   "source": [
    "# Filter non-movies, adult movies\n",
    "title_basics_filtered = title_basics[title_basics['titleType']=='movie']\n",
    "title_basics_filtered = title_basics_filtered[title_basics_filtered['isAdult']==0]"
   ]
  },
  {
   "cell_type": "code",
   "execution_count": 61,
   "metadata": {},
   "outputs": [],
   "source": [
    "# Split out genres\n",
    "genres_split = title_basics_filtered[\"genres\"].str.split(\",\", n=2, expand=True)\n",
    "\n",
    "## REFACTOR, LOSING MOVIES, CHECK JOIN/MERGE\n",
    "# Concatonate with main movies\n",
    "joined = pd.concat([title_basics_filtered, genres_split], axis=1, sort=False)"
   ]
  },
  {
   "cell_type": "code",
   "execution_count": 86,
   "metadata": {},
   "outputs": [
    {
     "data": {
      "text/plain": [
       "Type             78552\n",
       "Title            78552\n",
       "isAdult          78552\n",
       "Year             78552\n",
       "Runtime (min)    78552\n",
       "Genre (main)     78552\n",
       "Genre (sub 1)    78552\n",
       "Genre (sub 2)    78552\n",
       "Rating (avg.)    55953\n",
       "Votes            55953\n",
       "dtype: int64"
      ]
     },
     "execution_count": 86,
     "metadata": {},
     "output_type": "execute_result"
    }
   ],
   "source": [
    "joined.count()"
   ]
  },
  {
   "cell_type": "code",
   "execution_count": null,
   "metadata": {},
   "outputs": [],
   "source": []
  },
  {
   "cell_type": "code",
   "execution_count": null,
   "metadata": {},
   "outputs": [],
   "source": []
  },
  {
   "cell_type": "code",
   "execution_count": null,
   "metadata": {},
   "outputs": [],
   "source": []
  },
  {
   "cell_type": "code",
   "execution_count": 62,
   "metadata": {},
   "outputs": [],
   "source": [
    "# Rename and drop some columns\n",
    "joined = joined.rename(columns = {'tconst':'IMDB ID', 'titleType': 'Type', 'primaryTitle': 'Title', 'originalTitle': 'Title (original)', 'startYear': 'Year', 'runtimeMinutes': 'Runtime (min)', 0:'Genre (main)',1:'Genre (sub 1)', 2:'Genre (sub 2)'})\n",
    "joined = joined.drop(columns=['endYear', 'genres', 'Title (original)'])\n",
    "\n",
    "# Drop empty rows\n",
    "joined = joined.dropna(axis='rows')"
   ]
  },
  {
   "cell_type": "code",
   "execution_count": 63,
   "metadata": {},
   "outputs": [],
   "source": [
    "# Merge basic dataframe and rating dataframe\n",
    "joined = joined.set_index('IMDB ID').join(title_ratings.set_index('tconst'))\n",
    "joined = joined.rename(columns = {'averageRating': 'Rating (avg.)', 'numVotes': 'Votes'})"
   ]
  },
  {
   "cell_type": "code",
   "execution_count": 72,
   "metadata": {},
   "outputs": [],
   "source": [
    "# Merge\n",
    "box_office_oscars = box_office.join(oscars.set_index('Film'), on='title')\n",
    "merged = joined.join(box_office_oscars.set_index('title'), on='Title', rsuffix='_right')\n",
    "\n",
    "# Drop columns\n",
    "merged = merged.drop(['Type', 'isAdult', 'Year_right', 'Genre (sub 1)', 'Genre (sub 2)', 'year', 'rank'], axis=1)"
   ]
  },
  {
   "cell_type": "code",
   "execution_count": 73,
   "metadata": {},
   "outputs": [],
   "source": [
    "merged = merged.rename(columns = {'studio': 'Studio', 'lifetime_gross': 'Lifetime gross ($)'})"
   ]
  },
  {
   "cell_type": "code",
   "execution_count": 79,
   "metadata": {},
   "outputs": [
    {
     "data": {
      "text/plain": [
       "Title                 78671\n",
       "Year                  78671\n",
       "Runtime (min)         78671\n",
       "Genre (main)          78671\n",
       "Rating (avg.)         56051\n",
       "Votes                 56051\n",
       "Studio                 9024\n",
       "Lifetime gross ($)     9032\n",
       "Awards                  545\n",
       "Nominations             545\n",
       "dtype: int64"
      ]
     },
     "execution_count": 79,
     "metadata": {},
     "output_type": "execute_result"
    }
   ],
   "source": [
    "# FIX\n",
    "#merged[['Votes']] = merged[['Votes']].apply(pd.to_numeric, downcast='integer')\n",
    "merged.count()\n",
    "\n",
    "\n",
    "# Budget\n",
    "\n",
    "# Check for dupes\n",
    "#merged = merged.dropna(axis='rows')"
   ]
  },
  {
   "cell_type": "markdown",
   "metadata": {},
   "source": [
    "## STUFF NOT USING AT THE MOMENT"
   ]
  },
  {
   "cell_type": "code",
   "execution_count": null,
   "metadata": {},
   "outputs": [],
   "source": []
  },
  {
   "cell_type": "code",
   "execution_count": null,
   "metadata": {},
   "outputs": [],
   "source": [
    "# Calculate avg gross ($) per movie\n",
    "box_plot['Avg. lifetime gross'] = box_plot['lifetime_gross']/box_plot['title']\n",
    "\n",
    "# Reset index to get year in column\n",
    "box_plot.reset_index()"
   ]
  }
 ],
 "metadata": {
  "kernelspec": {
   "display_name": "Python 3",
   "language": "python",
   "name": "python3"
  },
  "language_info": {
   "codemirror_mode": {
    "name": "ipython",
    "version": 3
   },
   "file_extension": ".py",
   "mimetype": "text/x-python",
   "name": "python",
   "nbconvert_exporter": "python",
   "pygments_lexer": "ipython3",
   "version": "3.8.2"
  }
 },
 "nbformat": 4,
 "nbformat_minor": 4
}
