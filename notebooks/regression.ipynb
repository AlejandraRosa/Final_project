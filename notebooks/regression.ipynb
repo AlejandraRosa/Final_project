{
 "cells": [
  {
   "cell_type": "code",
   "execution_count": 1,
   "metadata": {},
   "outputs": [],
   "source": [
    "# Dependencies\n",
    "import pandas as pd\n",
    "%matplotlib inline\n",
    "import matplotlib.pyplot as plt"
   ]
  },
  {
   "cell_type": "code",
   "execution_count": 2,
   "metadata": {},
   "outputs": [],
   "source": [
    "# Import IMDB movie data (Title Basic, Name Basic, Title Crew, Title Ratings)\n",
    "# https://www.kaggle.com/tinoswe/split-python-dataframe\n",
    "title_basics = pd.read_csv('../data/title.basics.tsv',delimiter='\\t',encoding='utf-8-sig',low_memory=False)\n",
    "\n",
    "# Import title ratings\n",
    "title_ratings = pd.read_csv('../data/title.ratings.tsv',delimiter='\\t',encoding='utf-8-sig')\n",
    "\n",
    "# Import title crew\n",
    "title_crew = pd.read_csv('../data/title.crew.tsv',delimiter='\\t',encoding='utf-8-sig')\n",
    "\n",
    "# Import name basics\n",
    "name_basics = pd.read_csv('../data/name.basics.tsv',delimiter='\\t',encoding='utf-8-sig')\n",
    "\n",
    "# Import box office data from BoxOfficeMojo\n",
    "box_office = pd.read_csv('../data/boxoffice.csv')\n",
    "\n",
    "# Import Oscar data from Wikipedia: https://en.wikipedia.org/wiki/List_of_Academy_Award-winning_films\n",
    "oscars = pd.read_csv('../data/oscars_cleaned.csv')"
   ]
  },
  {
   "cell_type": "code",
   "execution_count": 105,
   "metadata": {},
   "outputs": [],
   "source": [
    "## REFACTOR\n",
    "\n",
    "# Filter dataframe to exclude tv data\n",
    "title_basics_filtered = title_basics[title_basics['titleType']!=\"tvEpisode\"]\n",
    "\n",
    "# Split out genres to new dataframe, concatonate with main movie dataframe\n",
    "genres_split = title_basics_filtered[\"genres\"].str.split(\",\", n=2, expand=True)\n",
    "joined = pd.concat([title_basics_filtered, genres_split], axis=1, sort=False)\n",
    "\n",
    "# Rename and drop some columns\n",
    "joined = joined.rename(columns = {'tconst':'IMDB ID', 'titleType': 'Type', 'primaryTitle': 'Title', 'originalTitle': 'Title (original)', 'isAdult': 'Adult (yes/no)', 'startYear': 'Year', 'runtimeMinutes': 'Runtime (min)', 0:'Genre (Main)',1:'Genre (Sub 1)', 2:'Genre (Sub 2)'})\n",
    "joined = joined.drop(columns=['endYear', 'genres'])\n",
    "\n",
    "# Filter short films\n",
    "features = joined[joined['Type']!='short']\n",
    "\n",
    "# Filter adult movies\n",
    "features = features[features['Adult (yes/no)']==0]\n",
    "\n",
    "# Filter movies with no runtime\n",
    "realmovies = features.dropna(axis='rows')"
   ]
  },
  {
   "cell_type": "code",
   "execution_count": 212,
   "metadata": {},
   "outputs": [],
   "source": [
    "### LOSING DATA HERE, CHECK JOIN/MERGE\n",
    "\n",
    "# Merge basic dataframe and rating dataframe\n",
    "title_ratings_merged = realmovies.set_index('IMDB ID').join(title_ratings.set_index('tconst'))\n",
    "title_ratings_merged = title_ratings_merged.rename(columns = {'averageRating': 'Rating (avg.)', 'numVotes': 'Number of votes'})"
   ]
  },
  {
   "cell_type": "code",
   "execution_count": 213,
   "metadata": {},
   "outputs": [
    {
     "data": {
      "text/plain": [
       "Type                138526\n",
       "Title               138526\n",
       "Title (original)    138526\n",
       "Adult (yes/no)      138526\n",
       "Year                138526\n",
       "Runtime (min)       138526\n",
       "Genre (Main)        138526\n",
       "Genre (Sub 1)       138526\n",
       "Genre (Sub 2)       138526\n",
       "Rating (avg.)        89475\n",
       "Number of votes      89475\n",
       "dtype: int64"
      ]
     },
     "execution_count": 213,
     "metadata": {},
     "output_type": "execute_result"
    }
   ],
   "source": [
    "title_ratings_merged.count()"
   ]
  },
  {
   "cell_type": "code",
   "execution_count": 183,
   "metadata": {},
   "outputs": [],
   "source": [
    "# Merge, drop columns we don't need\n",
    "merged = box_office.join(oscars.set_index('Film'), on='title')\n",
    "merged = title_ratings_merged.join(merged.set_index('title'), on='Title', rsuffix='_right')\n",
    "merged = merged.drop(['Adult (yes/no)', 'Year_right', 'year', 'rank'], axis=1)"
   ]
  },
  {
   "cell_type": "code",
   "execution_count": null,
   "metadata": {},
   "outputs": [],
   "source": [
    "# Drop tvMovie, tvSeries etc.\n",
    "# Check for dupes"
   ]
  },
  {
   "cell_type": "code",
   "execution_count": 180,
   "metadata": {},
   "outputs": [],
   "source": [
    "# Budget\n",
    "\n",
    "#merged = merged.dropna(axis='rows')\n",
    "#merged.head()"
   ]
  },
  {
   "cell_type": "markdown",
   "metadata": {},
   "source": [
    "## STUFF NOT USING AT THE MOMENT"
   ]
  },
  {
   "cell_type": "code",
   "execution_count": null,
   "metadata": {},
   "outputs": [],
   "source": [
    "# Calculate avg gross ($) per movie\n",
    "box_plot['Avg. lifetime gross'] = box_plot['lifetime_gross']/box_plot['title']\n",
    "\n",
    "# Reset index to get year in column\n",
    "box_plot.reset_index()"
   ]
  }
 ],
 "metadata": {
  "kernelspec": {
   "display_name": "Python 3",
   "language": "python",
   "name": "python3"
  },
  "language_info": {
   "codemirror_mode": {
    "name": "ipython",
    "version": 3
   },
   "file_extension": ".py",
   "mimetype": "text/x-python",
   "name": "python",
   "nbconvert_exporter": "python",
   "pygments_lexer": "ipython3",
   "version": "3.8.2"
  }
 },
 "nbformat": 4,
 "nbformat_minor": 4
}
