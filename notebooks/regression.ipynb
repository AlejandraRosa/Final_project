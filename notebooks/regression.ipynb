{
 "cells": [
  {
   "cell_type": "markdown",
   "metadata": {},
   "source": [
    "# Setup and data cleaning"
   ]
  },
  {
   "cell_type": "code",
   "execution_count": 118,
   "metadata": {},
   "outputs": [],
   "source": [
    "# Dependencies\n",
    "%matplotlib inline\n",
    "import pandas as pd\n",
    "import matplotlib.pyplot as plt"
   ]
  },
  {
   "cell_type": "code",
   "execution_count": 119,
   "metadata": {},
   "outputs": [],
   "source": [
    "# Import IMDB movie data\n",
    "title_basics = pd.read_csv('../data/title.basics.tsv',delimiter='\\t',encoding='utf-8-sig',low_memory=False)\n",
    "\n",
    "# Import ratings\n",
    "title_ratings = pd.read_csv('../data/title.ratings.tsv',delimiter='\\t',encoding='utf-8-sig')\n",
    "\n",
    "# Import crew\n",
    "title_crew = pd.read_csv('../data/title.crew.tsv',delimiter='\\t',encoding='utf-8-sig')\n",
    "\n",
    "# Import name basics\n",
    "name_basics = pd.read_csv('../data/name.basics.tsv',delimiter='\\t',encoding='utf-8-sig')\n",
    "\n",
    "# Import box office data from BoxOfficeMojo\n",
    "box_office = pd.read_csv('../data/boxoffice.csv')\n",
    "\n",
    "# Import Oscar data from Wikipedia: https://en.wikipedia.org/wiki/List_of_Academy_Award-winning_films\n",
    "oscars = pd.read_csv('../data/oscars_cleaned.csv')"
   ]
  },
  {
   "cell_type": "code",
   "execution_count": 120,
   "metadata": {},
   "outputs": [],
   "source": [
    "# Filter non-movies, adult movies\n",
    "title_filtered = title_basics[title_basics['titleType']=='movie']\n",
    "title_filtered = title_filtered[title_filtered['isAdult']==0]"
   ]
  },
  {
   "cell_type": "code",
   "execution_count": 129,
   "metadata": {},
   "outputs": [],
   "source": [
    "# Split out genres and join\n",
    "genres_split = title_filtered[\"genres\"].str.split(\",\", n=2, expand=True)\n",
    "joined = title_filtered.join(genres_split)"
   ]
  },
  {
   "cell_type": "code",
   "execution_count": 131,
   "metadata": {},
   "outputs": [],
   "source": [
    "# Rename and drop some columns\n",
    "cleaned = joined.rename(columns = {'tconst':'IMDB ID', 'titleType': 'Type', 'primaryTitle': 'Title', 'originalTitle': 'Title (original)', 'startYear': 'Year', 'runtimeMinutes': 'Runtime (min)', 0:'Genre (main)', 1:'Genre (sub 1)', 2:'Genre (sub 2)'})\n",
    "cleaned = cleaned.drop(columns=['endYear', 'genres', 'Genre (sub 1)', 'Genre (sub 2)', 'Title (original)'])"
   ]
  },
  {
   "cell_type": "code",
   "execution_count": 137,
   "metadata": {},
   "outputs": [
    {
     "data": {
      "text/html": [
       "<div>\n",
       "<style scoped>\n",
       "    .dataframe tbody tr th:only-of-type {\n",
       "        vertical-align: middle;\n",
       "    }\n",
       "\n",
       "    .dataframe tbody tr th {\n",
       "        vertical-align: top;\n",
       "    }\n",
       "\n",
       "    .dataframe thead th {\n",
       "        text-align: right;\n",
       "    }\n",
       "</style>\n",
       "<table border=\"1\" class=\"dataframe\">\n",
       "  <thead>\n",
       "    <tr style=\"text-align: right;\">\n",
       "      <th></th>\n",
       "      <th>IMDB ID</th>\n",
       "      <th>Type</th>\n",
       "      <th>Title</th>\n",
       "      <th>isAdult</th>\n",
       "      <th>Year</th>\n",
       "      <th>Runtime (min)</th>\n",
       "      <th>Genre (main)</th>\n",
       "    </tr>\n",
       "  </thead>\n",
       "  <tbody>\n",
       "    <tr>\n",
       "      <th>8</th>\n",
       "      <td>tt0000009</td>\n",
       "      <td>movie</td>\n",
       "      <td>Miss Jerry</td>\n",
       "      <td>0</td>\n",
       "      <td>1894</td>\n",
       "      <td>45</td>\n",
       "      <td>Romance</td>\n",
       "    </tr>\n",
       "    <tr>\n",
       "      <th>145</th>\n",
       "      <td>tt0000147</td>\n",
       "      <td>movie</td>\n",
       "      <td>The Corbett-Fitzsimmons Fight</td>\n",
       "      <td>0</td>\n",
       "      <td>1897</td>\n",
       "      <td>20</td>\n",
       "      <td>Documentary</td>\n",
       "    </tr>\n",
       "    <tr>\n",
       "      <th>332</th>\n",
       "      <td>tt0000335</td>\n",
       "      <td>movie</td>\n",
       "      <td>Soldiers of the Cross</td>\n",
       "      <td>0</td>\n",
       "      <td>1900</td>\n",
       "      <td>\\N</td>\n",
       "      <td>Biography</td>\n",
       "    </tr>\n",
       "    <tr>\n",
       "      <th>499</th>\n",
       "      <td>tt0000502</td>\n",
       "      <td>movie</td>\n",
       "      <td>Bohemios</td>\n",
       "      <td>0</td>\n",
       "      <td>1905</td>\n",
       "      <td>100</td>\n",
       "      <td>\\N</td>\n",
       "    </tr>\n",
       "    <tr>\n",
       "      <th>571</th>\n",
       "      <td>tt0000574</td>\n",
       "      <td>movie</td>\n",
       "      <td>The Story of the Kelly Gang</td>\n",
       "      <td>0</td>\n",
       "      <td>1906</td>\n",
       "      <td>70</td>\n",
       "      <td>Biography</td>\n",
       "    </tr>\n",
       "  </tbody>\n",
       "</table>\n",
       "</div>"
      ],
      "text/plain": [
       "       IMDB ID   Type                          Title  isAdult  Year  \\\n",
       "8    tt0000009  movie                     Miss Jerry        0  1894   \n",
       "145  tt0000147  movie  The Corbett-Fitzsimmons Fight        0  1897   \n",
       "332  tt0000335  movie          Soldiers of the Cross        0  1900   \n",
       "499  tt0000502  movie                       Bohemios        0  1905   \n",
       "571  tt0000574  movie    The Story of the Kelly Gang        0  1906   \n",
       "\n",
       "    Runtime (min) Genre (main)  \n",
       "8              45      Romance  \n",
       "145            20  Documentary  \n",
       "332            \\N    Biography  \n",
       "499           100           \\N  \n",
       "571            70    Biography  "
      ]
     },
     "execution_count": 137,
     "metadata": {},
     "output_type": "execute_result"
    }
   ],
   "source": [
    "# Drop empty rows\n",
    "cleaned = cleaned.dropna(axis='rows')"
   ]
  },
  {
   "cell_type": "code",
   "execution_count": 140,
   "metadata": {},
   "outputs": [],
   "source": [
    "# Merge basic set and rating\n",
    "with_ratings = cleaned.set_index('IMDB ID').join(title_ratings.set_index('tconst'))\n",
    "with_ratings = with_ratings.rename(columns = {'averageRating': 'Rating (avg.)', 'numVotes': 'Votes'})\n",
    "\n",
    "# Merge box office and Oscars\n",
    "merged = pd.merge(box_office, oscars, left_on='title', right_on='Film', how='outer')"
   ]
  },
  {
   "cell_type": "code",
   "execution_count": 263,
   "metadata": {},
   "outputs": [],
   "source": [
    "# Merge both of above to make combined set\n",
    "combined = with_ratings.merge(merged,how='left', left_on='Title', right_on='title')"
   ]
  },
  {
   "cell_type": "code",
   "execution_count": 265,
   "metadata": {},
   "outputs": [
    {
     "data": {
      "text/html": [
       "<div>\n",
       "<style scoped>\n",
       "    .dataframe tbody tr th:only-of-type {\n",
       "        vertical-align: middle;\n",
       "    }\n",
       "\n",
       "    .dataframe tbody tr th {\n",
       "        vertical-align: top;\n",
       "    }\n",
       "\n",
       "    .dataframe thead th {\n",
       "        text-align: right;\n",
       "    }\n",
       "</style>\n",
       "<table border=\"1\" class=\"dataframe\">\n",
       "  <thead>\n",
       "    <tr style=\"text-align: right;\">\n",
       "      <th></th>\n",
       "      <th>Type</th>\n",
       "      <th>Title</th>\n",
       "      <th>isAdult</th>\n",
       "      <th>Year_x</th>\n",
       "      <th>Runtime (min)</th>\n",
       "      <th>Genre (main)</th>\n",
       "      <th>Rating (avg.)</th>\n",
       "      <th>Votes</th>\n",
       "      <th>rank</th>\n",
       "      <th>title</th>\n",
       "      <th>studio</th>\n",
       "      <th>lifetime_gross</th>\n",
       "      <th>year</th>\n",
       "      <th>Film</th>\n",
       "      <th>Year_y</th>\n",
       "      <th>Awards</th>\n",
       "      <th>Nominations</th>\n",
       "    </tr>\n",
       "  </thead>\n",
       "  <tbody>\n",
       "    <tr>\n",
       "      <th>0</th>\n",
       "      <td>movie</td>\n",
       "      <td>Miss Jerry</td>\n",
       "      <td>0</td>\n",
       "      <td>1894</td>\n",
       "      <td>45</td>\n",
       "      <td>Romance</td>\n",
       "      <td>5.9</td>\n",
       "      <td>152.0</td>\n",
       "      <td>NaN</td>\n",
       "      <td>NaN</td>\n",
       "      <td>NaN</td>\n",
       "      <td>NaN</td>\n",
       "      <td>NaN</td>\n",
       "      <td>NaN</td>\n",
       "      <td>NaN</td>\n",
       "      <td>NaN</td>\n",
       "      <td>NaN</td>\n",
       "    </tr>\n",
       "    <tr>\n",
       "      <th>1</th>\n",
       "      <td>movie</td>\n",
       "      <td>The Corbett-Fitzsimmons Fight</td>\n",
       "      <td>0</td>\n",
       "      <td>1897</td>\n",
       "      <td>20</td>\n",
       "      <td>Documentary</td>\n",
       "      <td>5.2</td>\n",
       "      <td>343.0</td>\n",
       "      <td>NaN</td>\n",
       "      <td>NaN</td>\n",
       "      <td>NaN</td>\n",
       "      <td>NaN</td>\n",
       "      <td>NaN</td>\n",
       "      <td>NaN</td>\n",
       "      <td>NaN</td>\n",
       "      <td>NaN</td>\n",
       "      <td>NaN</td>\n",
       "    </tr>\n",
       "    <tr>\n",
       "      <th>2</th>\n",
       "      <td>movie</td>\n",
       "      <td>Soldiers of the Cross</td>\n",
       "      <td>0</td>\n",
       "      <td>1900</td>\n",
       "      <td>\\N</td>\n",
       "      <td>Biography</td>\n",
       "      <td>6.1</td>\n",
       "      <td>40.0</td>\n",
       "      <td>NaN</td>\n",
       "      <td>NaN</td>\n",
       "      <td>NaN</td>\n",
       "      <td>NaN</td>\n",
       "      <td>NaN</td>\n",
       "      <td>NaN</td>\n",
       "      <td>NaN</td>\n",
       "      <td>NaN</td>\n",
       "      <td>NaN</td>\n",
       "    </tr>\n",
       "    <tr>\n",
       "      <th>3</th>\n",
       "      <td>movie</td>\n",
       "      <td>Bohemios</td>\n",
       "      <td>0</td>\n",
       "      <td>1905</td>\n",
       "      <td>100</td>\n",
       "      <td>\\N</td>\n",
       "      <td>4.4</td>\n",
       "      <td>5.0</td>\n",
       "      <td>NaN</td>\n",
       "      <td>NaN</td>\n",
       "      <td>NaN</td>\n",
       "      <td>NaN</td>\n",
       "      <td>NaN</td>\n",
       "      <td>NaN</td>\n",
       "      <td>NaN</td>\n",
       "      <td>NaN</td>\n",
       "      <td>NaN</td>\n",
       "    </tr>\n",
       "    <tr>\n",
       "      <th>4</th>\n",
       "      <td>movie</td>\n",
       "      <td>The Story of the Kelly Gang</td>\n",
       "      <td>0</td>\n",
       "      <td>1906</td>\n",
       "      <td>70</td>\n",
       "      <td>Biography</td>\n",
       "      <td>6.1</td>\n",
       "      <td>570.0</td>\n",
       "      <td>NaN</td>\n",
       "      <td>NaN</td>\n",
       "      <td>NaN</td>\n",
       "      <td>NaN</td>\n",
       "      <td>NaN</td>\n",
       "      <td>NaN</td>\n",
       "      <td>NaN</td>\n",
       "      <td>NaN</td>\n",
       "      <td>NaN</td>\n",
       "    </tr>\n",
       "  </tbody>\n",
       "</table>\n",
       "</div>"
      ],
      "text/plain": [
       "    Type                          Title  isAdult Year_x Runtime (min)  \\\n",
       "0  movie                     Miss Jerry        0   1894            45   \n",
       "1  movie  The Corbett-Fitzsimmons Fight        0   1897            20   \n",
       "2  movie          Soldiers of the Cross        0   1900            \\N   \n",
       "3  movie                       Bohemios        0   1905           100   \n",
       "4  movie    The Story of the Kelly Gang        0   1906            70   \n",
       "\n",
       "  Genre (main)  Rating (avg.)  Votes  rank title studio  lifetime_gross  year  \\\n",
       "0      Romance            5.9  152.0   NaN   NaN    NaN             NaN   NaN   \n",
       "1  Documentary            5.2  343.0   NaN   NaN    NaN             NaN   NaN   \n",
       "2    Biography            6.1   40.0   NaN   NaN    NaN             NaN   NaN   \n",
       "3           \\N            4.4    5.0   NaN   NaN    NaN             NaN   NaN   \n",
       "4    Biography            6.1  570.0   NaN   NaN    NaN             NaN   NaN   \n",
       "\n",
       "  Film Year_y  Awards  Nominations  \n",
       "0  NaN    NaN     NaN          NaN  \n",
       "1  NaN    NaN     NaN          NaN  \n",
       "2  NaN    NaN     NaN          NaN  \n",
       "3  NaN    NaN     NaN          NaN  \n",
       "4  NaN    NaN     NaN          NaN  "
      ]
     },
     "execution_count": 265,
     "metadata": {},
     "output_type": "execute_result"
    }
   ],
   "source": [
    "combined.head()"
   ]
  },
  {
   "cell_type": "code",
   "execution_count": 266,
   "metadata": {},
   "outputs": [],
   "source": [
    "# Drop, rename\n",
    "combined = combined.drop(['Type', 'isAdult', 'Year_y', 'year', 'rank', 'title', 'Film'], axis=1)\n",
    "combined = combined.rename(columns = {'Year_x': 'Year', 'studio': 'Studio', 'lifetime_gross': 'Gross (lifetime)'})"
   ]
  },
  {
   "cell_type": "code",
   "execution_count": 273,
   "metadata": {},
   "outputs": [
    {
     "data": {
      "text/plain": [
       "Title               540781\n",
       "Year                540781\n",
       "Runtime (min)       540781\n",
       "Genre (main)        540781\n",
       "Rating (avg.)       243681\n",
       "Votes               243681\n",
       "Studio               27293\n",
       "Gross (lifetime)     27357\n",
       "Awards                1312\n",
       "Nominations           1312\n",
       "dtype: int64"
      ]
     },
     "execution_count": 273,
     "metadata": {},
     "output_type": "execute_result"
    }
   ],
   "source": [
    "combined.count()"
   ]
  },
  {
   "cell_type": "markdown",
   "metadata": {},
   "source": [
    "## Things we could integrate"
   ]
  },
  {
   "cell_type": "code",
   "execution_count": null,
   "metadata": {},
   "outputs": [],
   "source": [
    "# https://towardsdatascience.com/collecting-movie-data-445ca1ead8e5\n",
    "# Budget\n",
    "# Country (e.g. most popular genres by country)\n",
    "\n",
    "# Calculate avg gross ($) per movie\n",
    "#box_plot['Avg. lifetime gross'] = box_plot['lifetime_gross']/box_plot['title']\n",
    "\n",
    "# Reset index to get year in column\n",
    "#box_plot.reset_index()"
   ]
  },
  {
   "cell_type": "markdown",
   "metadata": {},
   "source": [
    "# Machine Learning"
   ]
  },
  {
   "cell_type": "code",
   "execution_count": null,
   "metadata": {},
   "outputs": [],
   "source": [
    "# - [prediction] 1/04-Stu_Brains\n",
    "# - [multiple vectors] 1/05-Ins_Multiple_Linear_Regression_Sklearn\n",
    "# - 1/06-Stu_Beer_Foam"
   ]
  }
 ],
 "metadata": {
  "kernelspec": {
   "display_name": "Python 3",
   "language": "python",
   "name": "python3"
  },
  "language_info": {
   "codemirror_mode": {
    "name": "ipython",
    "version": 3
   },
   "file_extension": ".py",
   "mimetype": "text/x-python",
   "name": "python",
   "nbconvert_exporter": "python",
   "pygments_lexer": "ipython3",
   "version": "3.8.2"
  }
 },
 "nbformat": 4,
 "nbformat_minor": 4
}
