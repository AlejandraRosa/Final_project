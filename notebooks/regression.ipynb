{
 "cells": [
  {
   "cell_type": "markdown",
   "metadata": {},
   "source": [
    "# Setup and data cleaning"
   ]
  },
  {
   "cell_type": "code",
   "execution_count": 118,
   "metadata": {},
   "outputs": [],
   "source": [
    "# Dependencies\n",
    "%matplotlib inline\n",
    "import pandas as pd\n",
    "import matplotlib.pyplot as plt"
   ]
  },
  {
   "cell_type": "code",
   "execution_count": 119,
   "metadata": {},
   "outputs": [],
   "source": [
    "# Import IMDB movie data\n",
    "title_basics = pd.read_csv('../data/title.basics.tsv',delimiter='\\t',encoding='utf-8-sig',low_memory=False)\n",
    "\n",
    "# Import ratings\n",
    "title_ratings = pd.read_csv('../data/title.ratings.tsv',delimiter='\\t',encoding='utf-8-sig')\n",
    "\n",
    "# Import crew\n",
    "title_crew = pd.read_csv('../data/title.crew.tsv',delimiter='\\t',encoding='utf-8-sig')\n",
    "\n",
    "# Import name basics\n",
    "name_basics = pd.read_csv('../data/name.basics.tsv',delimiter='\\t',encoding='utf-8-sig')\n",
    "\n",
    "# Import box office data from BoxOfficeMojo\n",
    "box_office = pd.read_csv('../data/boxoffice.csv')\n",
    "\n",
    "# Import Oscar data from Wikipedia: https://en.wikipedia.org/wiki/List_of_Academy_Award-winning_films\n",
    "oscars = pd.read_csv('../data/oscars_cleaned.csv')"
   ]
  },
  {
   "cell_type": "code",
   "execution_count": 120,
   "metadata": {},
   "outputs": [],
   "source": [
    "# Filter non-movies, adult movies\n",
    "title_filtered = title_basics[title_basics['titleType']=='movie']\n",
    "title_filtered = title_filtered[title_filtered['isAdult']==0]"
   ]
  },
  {
   "cell_type": "code",
   "execution_count": 129,
   "metadata": {},
   "outputs": [],
   "source": [
    "# Split out genres and join\n",
    "genres_split = title_filtered[\"genres\"].str.split(\",\", n=2, expand=True)\n",
    "joined = title_filtered.join(genres_split)"
   ]
  },
  {
   "cell_type": "code",
   "execution_count": 131,
   "metadata": {},
   "outputs": [],
   "source": [
    "# Rename and drop some columns\n",
    "cleaned = joined.rename(columns = {'tconst':'IMDB ID', 'titleType': 'Type', 'primaryTitle': 'Title', 'originalTitle': 'Title (original)', 'startYear': 'Year', 'runtimeMinutes': 'Runtime (min)', 0:'Genre (main)', 1:'Genre (sub 1)', 2:'Genre (sub 2)'})\n",
    "cleaned = cleaned.drop(columns=['endYear', 'genres', 'Genre (sub 1)', 'Genre (sub 2)', 'Title (original)'])"
   ]
  },
  {
   "cell_type": "code",
   "execution_count": 137,
   "metadata": {},
   "outputs": [
    {
     "data": {
      "text/html": [
       "<div>\n",
       "<style scoped>\n",
       "    .dataframe tbody tr th:only-of-type {\n",
       "        vertical-align: middle;\n",
       "    }\n",
       "\n",
       "    .dataframe tbody tr th {\n",
       "        vertical-align: top;\n",
       "    }\n",
       "\n",
       "    .dataframe thead th {\n",
       "        text-align: right;\n",
       "    }\n",
       "</style>\n",
       "<table border=\"1\" class=\"dataframe\">\n",
       "  <thead>\n",
       "    <tr style=\"text-align: right;\">\n",
       "      <th></th>\n",
       "      <th>IMDB ID</th>\n",
       "      <th>Type</th>\n",
       "      <th>Title</th>\n",
       "      <th>isAdult</th>\n",
       "      <th>Year</th>\n",
       "      <th>Runtime (min)</th>\n",
       "      <th>Genre (main)</th>\n",
       "    </tr>\n",
       "  </thead>\n",
       "  <tbody>\n",
       "    <tr>\n",
       "      <th>8</th>\n",
       "      <td>tt0000009</td>\n",
       "      <td>movie</td>\n",
       "      <td>Miss Jerry</td>\n",
       "      <td>0</td>\n",
       "      <td>1894</td>\n",
       "      <td>45</td>\n",
       "      <td>Romance</td>\n",
       "    </tr>\n",
       "    <tr>\n",
       "      <th>145</th>\n",
       "      <td>tt0000147</td>\n",
       "      <td>movie</td>\n",
       "      <td>The Corbett-Fitzsimmons Fight</td>\n",
       "      <td>0</td>\n",
       "      <td>1897</td>\n",
       "      <td>20</td>\n",
       "      <td>Documentary</td>\n",
       "    </tr>\n",
       "    <tr>\n",
       "      <th>332</th>\n",
       "      <td>tt0000335</td>\n",
       "      <td>movie</td>\n",
       "      <td>Soldiers of the Cross</td>\n",
       "      <td>0</td>\n",
       "      <td>1900</td>\n",
       "      <td>\\N</td>\n",
       "      <td>Biography</td>\n",
       "    </tr>\n",
       "    <tr>\n",
       "      <th>499</th>\n",
       "      <td>tt0000502</td>\n",
       "      <td>movie</td>\n",
       "      <td>Bohemios</td>\n",
       "      <td>0</td>\n",
       "      <td>1905</td>\n",
       "      <td>100</td>\n",
       "      <td>\\N</td>\n",
       "    </tr>\n",
       "    <tr>\n",
       "      <th>571</th>\n",
       "      <td>tt0000574</td>\n",
       "      <td>movie</td>\n",
       "      <td>The Story of the Kelly Gang</td>\n",
       "      <td>0</td>\n",
       "      <td>1906</td>\n",
       "      <td>70</td>\n",
       "      <td>Biography</td>\n",
       "    </tr>\n",
       "  </tbody>\n",
       "</table>\n",
       "</div>"
      ],
      "text/plain": [
       "       IMDB ID   Type                          Title  isAdult  Year  \\\n",
       "8    tt0000009  movie                     Miss Jerry        0  1894   \n",
       "145  tt0000147  movie  The Corbett-Fitzsimmons Fight        0  1897   \n",
       "332  tt0000335  movie          Soldiers of the Cross        0  1900   \n",
       "499  tt0000502  movie                       Bohemios        0  1905   \n",
       "571  tt0000574  movie    The Story of the Kelly Gang        0  1906   \n",
       "\n",
       "    Runtime (min) Genre (main)  \n",
       "8              45      Romance  \n",
       "145            20  Documentary  \n",
       "332            \\N    Biography  \n",
       "499           100           \\N  \n",
       "571            70    Biography  "
      ]
     },
     "execution_count": 137,
     "metadata": {},
     "output_type": "execute_result"
    }
   ],
   "source": [
    "# Drop empty rows\n",
    "cleaned = cleaned.dropna(axis='rows')"
   ]
  },
  {
   "cell_type": "code",
   "execution_count": 140,
   "metadata": {},
   "outputs": [],
   "source": [
    "# Merge basic dataframe and rating dataframe\n",
    "with_ratings = cleaned.set_index('IMDB ID').join(title_ratings.set_index('tconst'))\n",
    "with_ratings = with_ratings.rename(columns = {'averageRating': 'Rating (avg.)', 'numVotes': 'Votes'})"
   ]
  },
  {
   "cell_type": "code",
   "execution_count": 146,
   "metadata": {},
   "outputs": [],
   "source": [
    "## LOSING AWARDS\n",
    "\n",
    "# Merge, drop, rename\n",
    "box_office_oscars = box_office.join(oscars.set_index('Film'), on='title')\n",
    "merged = with_ratings.join(box_office_oscars.set_index('title'), on='Title', rsuffix='_right')\n",
    "merged = merged.drop(['Type', 'isAdult', 'Year_right', 'year', 'rank'], axis=1)\n",
    "merged = merged.rename(columns = {'studio': 'Studio', 'lifetime_gross': 'Lifetime gross ($)'})"
   ]
  },
  {
   "cell_type": "code",
   "execution_count": 148,
   "metadata": {},
   "outputs": [
    {
     "data": {
      "text/plain": [
       "Title                 540781\n",
       "Year                  540781\n",
       "Runtime (min)         540781\n",
       "Genre (main)          540781\n",
       "Rating (avg.)         243681\n",
       "Votes                 243681\n",
       "Studio                 27293\n",
       "Lifetime gross ($)     27357\n",
       "Awards                  1312\n",
       "Nominations             1312\n",
       "dtype: int64"
      ]
     },
     "execution_count": 148,
     "metadata": {},
     "output_type": "execute_result"
    }
   ],
   "source": [
    "merged.count()"
   ]
  },
  {
   "cell_type": "code",
   "execution_count": null,
   "metadata": {},
   "outputs": [],
   "source": [
    "# FIX\n",
    "#merged[['Votes']] = merged[['Votes']].apply(pd.to_numeric, downcast='integer')\n",
    "title_filtered.count()\n",
    "\n",
    "# Budget\n",
    "# Check for dupes\n",
    "#merged = merged.dropna(axis='rows')"
   ]
  },
  {
   "cell_type": "markdown",
   "metadata": {},
   "source": [
    "# Machine Learning"
   ]
  },
  {
   "cell_type": "code",
   "execution_count": null,
   "metadata": {},
   "outputs": [],
   "source": [
    "# - [prediction] 1/04-Stu_Brains\n",
    "# - [multiple vectors] 1/05-Ins_Multiple_Linear_Regression_Sklearn\n",
    "# - 1/06-Stu_Beer_Foam"
   ]
  },
  {
   "cell_type": "markdown",
   "metadata": {},
   "source": [
    "## STUFF NOT USING AT THE MOMENT"
   ]
  },
  {
   "cell_type": "code",
   "execution_count": null,
   "metadata": {},
   "outputs": [],
   "source": [
    "# Calculate avg gross ($) per movie\n",
    "box_plot['Avg. lifetime gross'] = box_plot['lifetime_gross']/box_plot['title']\n",
    "\n",
    "# Reset index to get year in column\n",
    "box_plot.reset_index()"
   ]
  }
 ],
 "metadata": {
  "kernelspec": {
   "display_name": "Python 3",
   "language": "python",
   "name": "python3"
  },
  "language_info": {
   "codemirror_mode": {
    "name": "ipython",
    "version": 3
   },
   "file_extension": ".py",
   "mimetype": "text/x-python",
   "name": "python",
   "nbconvert_exporter": "python",
   "pygments_lexer": "ipython3",
   "version": "3.8.2"
  }
 },
 "nbformat": 4,
 "nbformat_minor": 4
}
